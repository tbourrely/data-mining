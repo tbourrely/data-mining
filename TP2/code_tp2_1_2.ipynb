{
 "nbformat": 4,
 "nbformat_minor": 2,
 "metadata": {
  "language_info": {
   "name": "python",
   "codemirror_mode": {
    "name": "ipython",
    "version": 3
   },
   "version": "3.7.6-final"
  },
  "orig_nbformat": 2,
  "file_extension": ".py",
  "mimetype": "text/x-python",
  "name": "python",
  "npconvert_exporter": "python",
  "pygments_lexer": "ipython3",
  "version": 3,
  "kernelspec": {
   "name": "python37664bitvenvvenv65f5fc2ba572422d87050d0a13b08264",
   "display_name": "Python 3.7.6 64-bit ('venv': venv)"
  }
 },
 "cells": [
  {
   "cell_type": "code",
   "execution_count": null,
   "metadata": {},
   "outputs": [],
   "source": [
    "#from mlxtend.frequent_patterns import apriori\n",
    "import pandas as pd\n",
    "import matplotlib\n",
    "import matplotlib.pyplot as plt\n",
    "import numpy as np"
   ]
  },
  {
   "cell_type": "code",
   "execution_count": null,
   "metadata": {},
   "outputs": [],
   "source": [
    "from scipy.io import arff\n",
    "data, meta = arff.loadarff('./data/supermarket.arff')\n",
    "\n",
    "data"
   ]
  },
  {
   "cell_type": "code",
   "execution_count": null,
   "metadata": {},
   "outputs": [],
   "source": [
    "supermarket_one_hot = pd.get_dummies(pd.DataFrame(data))\n",
    "# find cols with interrogation marks\n",
    "cols_with_interrogation_mark = supermarket_one_hot.filter(regex='\\'\\?\\'$',axis=1).columns # Fix regex as it did not match any cols on my environment...\n",
    "# delete columsn with interrogation marks in it\n",
    "supermarket_one_hot.drop(cols_with_interrogation_mark,axis=1,inplace=True)"
   ]
  },
  {
   "cell_type": "code",
   "execution_count": null,
   "metadata": {},
   "outputs": [],
   "source": [
    "from mlxtend.frequent_patterns import apriori\n",
    "apriori_result = apriori(supermarket_one_hot, min_support=0.1)\n",
    "print('apriori_result n of rows : {}'.format(apriori_result.shape[0]))"
   ]
  },
  {
   "cell_type": "code",
   "execution_count": null,
   "metadata": {},
   "outputs": [],
   "source": [
    "# generate a bar chart, itemsets frequencies in terms of items containes\n",
    "import matplotlib\n",
    "import matplotlib.pyplot as plt\n",
    "\n",
    "max_itemsets_len = apriori_result.itemsets.map(len).max()\n",
    "frequencies = {}\n",
    "\n",
    "for i in range(1, max_itemsets_len + 1):\n",
    "   frequencies[str(i)] = apriori_result.loc[map(lambda x: len(x) == i, apriori_result['itemsets'])].shape[0]\n",
    "\n",
    "x = np.arange(len(frequencies.keys()))  # the label locations\n",
    "width = 0.35  # the width of the bars\n",
    "fig, ax = plt.subplots()\n",
    "\n",
    "rects = ax.bar(x - width/2, frequencies.values(), width, label='itemsets')\n",
    "\n",
    "# Add value to each bar\n",
    "for rect in rects:\n",
    "    height = rect.get_height()\n",
    "    ax.annotate('{}'.format(height),\n",
    "                    xy=(rect.get_x() + rect.get_width() / 2, height),\n",
    "                    xytext=(0, 3),  # 3 points vertical offset\n",
    "                    textcoords=\"offset points\",\n",
    "                    ha='center', va='bottom')\n",
    "\n",
    "# Add some text for labels, title and custom x-axis tick labels, etc.\n",
    "ax.set_ylabel('Frequency')\n",
    "ax.set_xlabel('Items contained')\n",
    "ax.set_title('itemsets frequencies')\n",
    "ax.set_xticks(x)\n",
    "ax.set_xticklabels(frequencies.keys())\n",
    "ax.legend()\n",
    "plt.savefig('fig/itemsets_frequencies')\n",
    "plt.close(fig)"
   ]
  },
  {
   "cell_type": "code",
   "execution_count": null,
   "metadata": {},
   "outputs": [],
   "source": [
    "# build association rules\n",
    "from mlxtend.frequent_patterns import association_rules\n",
    "min_threshold = 0.7\n",
    "dataset_association_rules = association_rules(apriori_result, min_threshold=min_threshold)\n",
    "print('Number of association rules : {}'.format(dataset_association_rules.shape[0]))\n",
    "print('-------------')\n",
    "print('First association rule : ')\n",
    "print(dataset_association_rules.iloc[0])"
   ]
  },
  {
   "cell_type": "code",
   "execution_count": null,
   "metadata": {},
   "outputs": [],
   "source": [
    "# rules with 5 items (4 antecedents, 1 consequent)\n",
    "\n",
    "# select those with 4 antecedents\n",
    "rules_with_5_items = dataset_association_rules.loc[map(lambda x: len(x) == 4, dataset_association_rules['antecedents'])]\n",
    "rules_with_5_items = rules_with_5_items.loc[map(lambda x: len(x) == 1, rules_with_5_items['consequents'])]\n",
    "\n",
    "print('Number of rules with 5 items : {}'.format(rules_with_5_items.shape[0]))"
   ]
  },
  {
   "cell_type": "code",
   "execution_count": null,
   "metadata": {},
   "outputs": [],
   "source": [
    "rules_with_5_items.describe()"
   ]
  },
  {
   "cell_type": "code",
   "execution_count": null,
   "metadata": {},
   "outputs": [],
   "source": [
    "# find best rules for each metrics\n",
    "metrics = ('confidence', 'lift', 'leverage', 'conviction')\n",
    "\n",
    "for metric in metrics:\n",
    "    print('--------------------------------------------------------------------------')\n",
    "    print('Best association rule for metric {}'.format(metric))\n",
    "    print('-----------------------------------------------------')\n",
    "    print(dataset_association_rules.iloc[dataset_association_rules[metric].idxmax()])\n",
    "    print('--------------------------------------------------------------------------')\n"
   ]
  }
 ]
}