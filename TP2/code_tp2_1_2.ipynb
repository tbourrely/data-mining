{
 "nbformat": 4,
 "nbformat_minor": 2,
 "metadata": {
  "language_info": {
   "name": "python",
   "codemirror_mode": {
    "name": "ipython",
    "version": 3
   },
   "version": "3.7.6-final"
  },
  "orig_nbformat": 2,
  "file_extension": ".py",
  "mimetype": "text/x-python",
  "name": "python",
  "npconvert_exporter": "python",
  "pygments_lexer": "ipython3",
  "version": 3,
  "kernelspec": {
   "name": "python37664bitvenvvenv65f5fc2ba572422d87050d0a13b08264",
   "display_name": "Python 3.7.6 64-bit ('venv': venv)"
  }
 },
 "cells": [
  {
   "cell_type": "code",
   "execution_count": 1,
   "metadata": {},
   "outputs": [],
   "source": [
    "#from mlxtend.frequent_patterns import apriori\n",
    "import pandas as pd\n",
    "import matplotlib\n",
    "import matplotlib.pyplot as plt\n",
    "import numpy as np"
   ]
  },
  {
   "cell_type": "code",
   "execution_count": 2,
   "metadata": {},
   "outputs": [
    {
     "data": {
      "text/plain": "array([(b'?', b'?', b'?', b'?', b'?', b'?', b'?', b'?', b'?', b'?', b'?', b't', b't', b't', b'?', b't', b'?', b't', b'?', b'?', b't', b'?', b'?', b'?', b't', b't', b't', b't', b'?', b't', b'?', b't', b't', b'?', b'?', b'?', b'?', b'?', b'?', b't', b't', b't', b'?', b'?', b'?', b'?', b'?', b'?', b'?', b't', b'?', b'?', b'?', b'?', b'?', b'?', b'?', b'?', b't', b'?', b't', b'?', b'?', b't', b'?', b't', b'?', b'?', b'?', b'?', b'?', b'?', b'?', b'?', b'?', b'?', b'?', b'?', b'?', b'?', b'?', b'?', b't', b'?', b'?', b't', b'?', b'?', b'?', b'?', b'?', b'?', b'?', b'?', b'?', b'?', b'?', b'?', b'?', b'?', b'?', b'?', b'?', b'?', b'?', b'?', b'?', b'?', b'?', b'?', b'?', b'?', b'?', b'?', b'?', b'?', b'?', b'?', b'?', b'?', b'?', b't', b'?', b'?', b'?', b'?', b'?', b'?', b'?', b'?', b'?', b'?', b'?', b'?', b'?', b'?', b'?', b'?', b'?', b'?', b'?', b'?', b'?', b'?', b'?', b'?', b'?', b'?', b'?', b'?', b'?', b'?', b'?', b'?', b'?', b'?', b'?', b'?', b'?', b'?', b'?', b'?', b'?', b'?', b'?', b'?', b'?', b'?', b'?', b'?', b'?', b'?', b'?', b'?', b'?', b'?', b'?', b'?', b'?', b'?', b'?', b't', b'?', b'?', b'?', b'?', b'?', b'?', b'?', b'?', b'?', b'?', b'?', b'?', b'?', b'?', b'?', b'?', b'?', b'?', b'?', b'?', b'?', b'?', b'?', b'?', b'?', b'?', b'?', b'?', b'?', b'?', b'?', b'?', b'?', b'?', b'high'),\n       (b't', b'?', b'?', b'?', b'?', b'?', b'?', b'?', b'?', b'?', b'?', b'?', b'?', b'?', b'?', b'?', b'?', b'?', b't', b't', b't', b'?', b'?', b'?', b'?', b'?', b't', b'?', b'?', b'?', b't', b't', b'?', b'?', b'?', b'?', b'?', b't', b't', b'?', b't', b'?', b'?', b'?', b'?', b'?', b'?', b'?', b't', b'?', b'?', b't', b'?', b'?', b'?', b'?', b'?', b'?', b'?', b'?', b't', b'?', b'?', b'?', b'?', b'?', b'?', b'?', b'?', b'?', b'?', b'?', b'?', b'?', b'?', b'?', b'?', b'?', b'?', b'?', b'?', b'?', b't', b'?', b'?', b't', b'?', b'?', b'?', b'?', b'?', b'?', b'?', b'?', b'?', b'?', b'?', b'?', b'?', b'?', b'?', b'?', b'?', b'?', b'?', b'?', b'?', b'?', b'?', b'?', b'?', b'?', b'?', b'?', b'?', b'?', b'?', b'?', b'?', b'?', b'?', b'?', b'?', b'?', b'?', b'?', b'?', b'?', b'?', b'?', b'?', b'?', b'?', b'?', b'?', b'?', b'?', b'?', b'?', b'?', b'?', b'?', b'?', b'?', b'?', b'?', b'?', b'?', b'?', b'?', b'?', b'?', b'?', b'?', b'?', b'?', b'?', b'?', b'?', b'?', b'?', b'?', b'?', b'?', b'?', b'?', b'?', b'?', b'?', b'?', b'?', b'?', b'?', b'?', b'?', b'?', b'?', b'?', b'?', b'?', b'?', b'?', b'?', b'?', b'?', b'?', b'?', b'?', b'?', b'?', b'?', b'?', b'?', b'?', b'?', b'?', b'?', b'?', b'?', b'?', b'?', b'?', b'?', b'?', b'?', b'?', b'?', b'?', b'?', b'?', b'?', b'?', b'?', b'?', b'?', b'?', b'low'),\n       (b'?', b'?', b'?', b'?', b'?', b'?', b'?', b'?', b'?', b'?', b'?', b'?', b't', b't', b'?', b't', b'?', b't', b'?', b't', b'?', b'?', b'?', b'?', b'?', b'?', b't', b'?', b't', b'?', b'?', b'?', b'?', b'?', b'?', b'?', b'?', b'?', b'?', b'?', b'?', b't', b'?', b'?', b'?', b't', b'?', b'?', b'?', b'?', b'?', b'?', b'?', b'?', b'?', b'?', b'?', b'?', b'?', b'?', b'?', b'?', b'?', b'?', b'?', b't', b't', b'?', b'?', b'?', b't', b'?', b't', b'?', b'?', b'?', b'?', b'?', b'?', b'?', b'?', b'?', b't', b'?', b'?', b't', b'?', b'?', b'?', b'?', b'?', b'?', b'?', b'?', b'?', b'?', b'?', b'?', b't', b'?', b'?', b'?', b'?', b'?', b'?', b'?', b'?', b'?', b'?', b'?', b'?', b'?', b'?', b'?', b'?', b'?', b'?', b'?', b'?', b'?', b'?', b'?', b'?', b'?', b'?', b'?', b'?', b'?', b'?', b'?', b'?', b'?', b'?', b'?', b'?', b'?', b't', b'?', b'?', b'?', b'?', b'?', b'?', b'?', b'?', b'?', b'?', b'?', b'?', b'?', b'?', b'?', b'?', b'?', b'?', b'?', b'?', b'?', b'?', b'?', b'?', b'?', b'?', b'?', b'?', b'?', b'?', b'?', b'?', b'?', b'?', b'?', b'?', b'?', b'?', b'?', b'?', b'?', b'?', b'?', b'?', b'?', b'?', b'?', b'?', b'?', b'?', b'?', b'?', b'?', b'?', b'?', b'?', b'?', b'?', b'?', b'?', b'?', b'?', b'?', b'?', b'?', b'?', b'?', b'?', b'?', b'?', b'?', b'?', b'?', b'?', b'?', b'?', b'?', b'?', b'?', b'low'),\n       ...,\n       (b'?', b'?', b'?', b'?', b'?', b'?', b'?', b'?', b'?', b'?', b'?', b'?', b'?', b'?', b'?', b'?', b'?', b'?', b'?', b'?', b'?', b't', b'?', b'?', b'?', b'?', b't', b't', b'?', b't', b'?', b'?', b't', b'?', b'?', b'?', b't', b't', b'?', b't', b'?', b'?', b'?', b'?', b'?', b'?', b'?', b'?', b'?', b'?', b'?', b't', b't', b'?', b't', b'?', b'?', b'?', b'?', b'?', b'?', b'?', b'?', b'?', b'?', b'?', b'?', b'?', b'?', b'?', b't', b'?', b'?', b'?', b'?', b'?', b'?', b'?', b'?', b'?', b'?', b'?', b't', b'?', b'?', b't', b'?', b'?', b'?', b'?', b'?', b'?', b'?', b'?', b'?', b'?', b'?', b'?', b'?', b'?', b'?', b'?', b'?', b'?', b'?', b'?', b'?', b'?', b'?', b'?', b'?', b'?', b'?', b'?', b'?', b'?', b'?', b'?', b'?', b'?', b'?', b'?', b'?', b'?', b'?', b'?', b'?', b'?', b'?', b'?', b'?', b'?', b'?', b'?', b'?', b'?', b'?', b'?', b'?', b'?', b'?', b'?', b'?', b'?', b'?', b'?', b'?', b'?', b'?', b'?', b'?', b'?', b'?', b'?', b'?', b'?', b'?', b'?', b'?', b'?', b'?', b'?', b'?', b'?', b'?', b'?', b'?', b'?', b'?', b'?', b'?', b'?', b'?', b'?', b'?', b'?', b'?', b'?', b'?', b'?', b'?', b'?', b'?', b'?', b'?', b'?', b'?', b'?', b'?', b'?', b'?', b'?', b'?', b'?', b'?', b'?', b'?', b'?', b'?', b'?', b'?', b'?', b'?', b'?', b'?', b'?', b'?', b'?', b'?', b'?', b'?', b'?', b'?', b'?', b'?', b'?', b'low'),\n       (b'?', b'?', b'?', b'?', b'?', b'?', b'?', b'?', b'?', b'?', b'?', b't', b'?', b't', b'?', b'?', b'?', b'?', b'?', b'?', b'?', b't', b'?', b'?', b'?', b'?', b'?', b't', b'?', b'?', b'?', b't', b'?', b'?', b'?', b'?', b'?', b'?', b'?', b'?', b'?', b't', b'?', b'?', b'?', b'?', b'?', b'?', b'?', b'?', b'?', b'?', b'?', b'?', b'?', b'?', b'?', b'?', b't', b'?', b't', b'?', b'?', b't', b'?', b'?', b't', b'?', b'?', b'?', b'?', b'?', b'?', b'?', b'?', b'?', b'?', b'?', b'?', b'?', b'?', b't', b'?', b'?', b'?', b'?', b'?', b'?', b'?', b'?', b'?', b'?', b'?', b'?', b'?', b'?', b'?', b'?', b'?', b'?', b'?', b'?', b'?', b'?', b'?', b'?', b'?', b'?', b'?', b'?', b'?', b'?', b'?', b'?', b'?', b'?', b'?', b'?', b'?', b'?', b'?', b'?', b'?', b'?', b'?', b'?', b'?', b'?', b'?', b'?', b'?', b'?', b'?', b'?', b'?', b'?', b'?', b'?', b'?', b'?', b'?', b'?', b'?', b'?', b'?', b'?', b'?', b'?', b'?', b'?', b'?', b'?', b'?', b'?', b'?', b'?', b'?', b'?', b'?', b'?', b'?', b'?', b'?', b'?', b'?', b'?', b'?', b'?', b'?', b'?', b'?', b'?', b'?', b'?', b'?', b'?', b'?', b'?', b'?', b'?', b'?', b'?', b'?', b'?', b'?', b'?', b'?', b'?', b'?', b'?', b'?', b'?', b'?', b'?', b'?', b'?', b'?', b'?', b'?', b'?', b'?', b'?', b'?', b'?', b'?', b'?', b'?', b'?', b'?', b'?', b'?', b'?', b'?', b'?', b'?', b'?', b'low'),\n       (b't', b'?', b'?', b'?', b'?', b'?', b'?', b'?', b'?', b'?', b'?', b'?', b't', b'?', b'?', b't', b'?', b't', b'?', b'?', b'?', b't', b't', b'?', b'?', b'?', b'?', b't', b'?', b'?', b'?', b't', b'?', b'?', b'?', b'?', b'?', b'?', b't', b't', b't', b'?', b'?', b'?', b't', b'?', b'?', b'?', b'?', b'?', b'?', b'?', b'?', b'?', b'?', b'?', b'?', b'?', b't', b'?', b't', b'?', b'?', b'?', b'?', b'?', b't', b'?', b'?', b'?', b'?', b'?', b'?', b't', b'?', b'?', b'?', b'?', b'?', b'?', b'?', b'?', b't', b'?', b'?', b'?', b'?', b'?', b'?', b'?', b'?', b'?', b'?', b'?', b'?', b'?', b'?', b'?', b'?', b'?', b'?', b'?', b'?', b'?', b'?', b'?', b'?', b'?', b'?', b'?', b'?', b'?', b'?', b'?', b'?', b'?', b'?', b'?', b'?', b'?', b'?', b'?', b'?', b'?', b'?', b'?', b'?', b'?', b'?', b'?', b'?', b'?', b'?', b'?', b'?', b'?', b't', b'?', b'?', b'?', b'?', b'?', b'?', b'?', b'?', b'?', b'?', b'?', b'?', b'?', b'?', b'?', b'?', b'?', b'?', b'?', b'?', b'?', b'?', b'?', b'?', b'?', b'?', b'?', b'?', b'?', b'?', b'?', b'?', b'?', b'?', b'?', b'?', b'?', b'?', b'?', b'?', b'?', b'?', b'?', b'?', b'?', b'?', b'?', b'?', b'?', b'?', b'?', b'?', b'?', b'?', b'?', b'?', b'?', b'?', b'?', b'?', b'?', b'?', b'?', b'?', b'?', b'?', b'?', b'?', b'?', b'?', b'?', b'?', b'?', b'?', b'?', b'?', b'?', b'?', b'?', b'high')],\n      dtype=[('department1', 'S1'), ('department2', 'S1'), ('department3', 'S1'), ('department4', 'S1'), ('department5', 'S1'), ('department6', 'S1'), ('department7', 'S1'), ('department8', 'S1'), ('department9', 'S1'), ('grocery misc', 'S1'), ('department11', 'S1'), ('baby needs', 'S1'), ('bread and cake', 'S1'), ('baking needs', 'S1'), ('coupons', 'S1'), ('juice-sat-cord-ms', 'S1'), ('tea', 'S1'), ('biscuits', 'S1'), ('canned fish-meat', 'S1'), ('canned fruit', 'S1'), ('canned vegetables', 'S1'), ('breakfast food', 'S1'), ('cigs-tobacco pkts', 'S1'), ('cigarette cartons', 'S1'), ('cleaners-polishers', 'S1'), ('coffee', 'S1'), ('sauces-gravy-pkle', 'S1'), ('confectionary', 'S1'), ('puddings-deserts', 'S1'), ('dishcloths-scour', 'S1'), ('deod-disinfectant', 'S1'), ('frozen foods', 'S1'), ('razor blades', 'S1'), ('fuels-garden aids', 'S1'), ('spices', 'S1'), ('jams-spreads', 'S1'), ('insecticides', 'S1'), ('pet foods', 'S1'), ('laundry needs', 'S1'), ('party snack foods', 'S1'), ('tissues-paper prd', 'S1'), ('wrapping', 'S1'), ('dried vegetables', 'S1'), ('pkt-canned soup', 'S1'), ('soft drinks', 'S1'), ('health food other', 'S1'), ('beverages hot', 'S1'), ('health&beauty misc', 'S1'), ('deodorants-soap', 'S1'), ('menstoiletries', 'S1'), ('medicines', 'S1'), ('haircare', 'S1'), ('dental needs', 'S1'), ('lotions-creams', 'S1'), ('sanitary pads', 'S1'), ('cough-cold-pain', 'S1'), ('department57', 'S1'), ('meat misc', 'S1'), ('cheese', 'S1'), ('chickens', 'S1'), ('milk-cream', 'S1'), ('cold-meats', 'S1'), ('deli gourmet', 'S1'), ('margarine', 'S1'), ('salads', 'S1'), ('small goods', 'S1'), ('dairy foods', 'S1'), ('fruit drinks', 'S1'), ('delicatessen misc', 'S1'), ('department70', 'S1'), ('beef', 'S1'), ('hogget', 'S1'), ('lamb', 'S1'), ('pet food', 'S1'), ('pork', 'S1'), ('poultry', 'S1'), ('veal', 'S1'), ('gourmet meat', 'S1'), ('department79', 'S1'), ('department80', 'S1'), ('department81', 'S1'), ('produce misc', 'S1'), ('fruit', 'S1'), ('plants', 'S1'), ('potatoes', 'S1'), ('vegetables', 'S1'), ('flowers', 'S1'), ('department88', 'S1'), ('department89', 'S1'), ('variety misc', 'S1'), ('brushware', 'S1'), ('electrical', 'S1'), ('haberdashery', 'S1'), ('kitchen', 'S1'), ('manchester', 'S1'), ('pantyhose', 'S1'), ('plasticware', 'S1'), ('department98', 'S1'), ('stationary', 'S1'), ('department100', 'S1'), ('department101', 'S1'), ('department102', 'S1'), ('prepared meals', 'S1'), ('preserving needs', 'S1'), ('condiments', 'S1'), ('cooking oils', 'S1'), ('department107', 'S1'), ('department108', 'S1'), ('department109', 'S1'), ('department110', 'S1'), ('department111', 'S1'), ('department112', 'S1'), ('department113', 'S1'), ('department114', 'S1'), ('health food bulk', 'S1'), ('department116', 'S1'), ('department117', 'S1'), ('department118', 'S1'), ('department119', 'S1'), ('department120', 'S1'), ('bake off products', 'S1'), ('department122', 'S1'), ('department123', 'S1'), ('department124', 'S1'), ('department125', 'S1'), ('department126', 'S1'), ('department127', 'S1'), ('department128', 'S1'), ('department129', 'S1'), ('department130', 'S1'), ('small goods2', 'S1'), ('offal', 'S1'), ('mutton', 'S1'), ('trim pork', 'S1'), ('trim lamb', 'S1'), ('imported cheese', 'S1'), ('department137', 'S1'), ('department138', 'S1'), ('department139', 'S1'), ('department140', 'S1'), ('department141', 'S1'), ('department142', 'S1'), ('department143', 'S1'), ('department144', 'S1'), ('department145', 'S1'), ('department146', 'S1'), ('department147', 'S1'), ('department148', 'S1'), ('department149', 'S1'), ('department150', 'S1'), ('department151', 'S1'), ('department152', 'S1'), ('department153', 'S1'), ('department154', 'S1'), ('department155', 'S1'), ('department156', 'S1'), ('department157', 'S1'), ('department158', 'S1'), ('department159', 'S1'), ('department160', 'S1'), ('department161', 'S1'), ('department162', 'S1'), ('department163', 'S1'), ('department164', 'S1'), ('department165', 'S1'), ('department166', 'S1'), ('department167', 'S1'), ('department168', 'S1'), ('department169', 'S1'), ('department170', 'S1'), ('department171', 'S1'), ('department172', 'S1'), ('department173', 'S1'), ('department174', 'S1'), ('department175', 'S1'), ('department176', 'S1'), ('department177', 'S1'), ('department178', 'S1'), ('department179', 'S1'), ('casks white wine', 'S1'), ('casks red wine', 'S1'), ('750ml white nz', 'S1'), ('750ml red nz', 'S1'), ('750ml white imp', 'S1'), ('750ml red imp', 'S1'), ('sparkling nz', 'S1'), ('sparkling imp', 'S1'), ('brew kits/accesry', 'S1'), ('department189', 'S1'), ('port and sherry', 'S1'), ('ctrled label wine', 'S1'), ('department192', 'S1'), ('department193', 'S1'), ('department194', 'S1'), ('department195', 'S1'), ('department196', 'S1'), ('department197', 'S1'), ('department198', 'S1'), ('department199', 'S1'), ('non host support', 'S1'), ('department201', 'S1'), ('department202', 'S1'), ('department203', 'S1'), ('department204', 'S1'), ('department205', 'S1'), ('department206', 'S1'), ('department207', 'S1'), ('department208', 'S1'), ('department209', 'S1'), ('department210', 'S1'), ('department211', 'S1'), ('department212', 'S1'), ('department213', 'S1'), ('department214', 'S1'), ('department215', 'S1'), ('department216', 'S1'), ('total', 'S4')])"
     },
     "execution_count": 2,
     "metadata": {},
     "output_type": "execute_result"
    }
   ],
   "source": [
    "from scipy.io import arff\n",
    "data, meta = arff.loadarff('./data/supermarket.arff')\n",
    "\n",
    "data"
   ]
  },
  {
   "cell_type": "code",
   "execution_count": 3,
   "metadata": {},
   "outputs": [],
   "source": [
    "supermarket_one_hot = pd.get_dummies(pd.DataFrame(data))\n",
    "# find cols with interrogation marks\n",
    "cols_with_interrogation_mark = supermarket_one_hot.filter(regex='\\'\\?\\'$',axis=1).columns # Fix regex as it did not match any cols on my environment...\n",
    "# delete columsn with interrogation marks in it\n",
    "supermarket_one_hot.drop(cols_with_interrogation_mark,axis=1,inplace=True)"
   ]
  },
  {
   "cell_type": "code",
   "execution_count": 11,
   "metadata": {},
   "outputs": [
    {
     "name": "stdout",
     "output_type": "stream",
     "text": "apriori_result n of rows : 10282\n        support                       itemsets\n0      0.226281                            (0)\n1      0.133780                           (10)\n2      0.719689                           (11)\n3      0.604063                           (12)\n4      0.532310                           (13)\n...         ...                            ...\n10277  0.101145  (11, 77, 15, 80, 24, 122, 29)\n10278  0.100713   (37, 11, 77, 15, 80, 57, 29)\n10279  0.103307  (37, 11, 77, 15, 80, 122, 29)\n10280  0.102658  (38, 11, 77, 15, 80, 122, 29)\n10281  0.105036  (11, 77, 15, 80, 57, 122, 29)\n\n[10282 rows x 2 columns]\n"
    }
   ],
   "source": [
    "from mlxtend.frequent_patterns import apriori\n",
    "apriori_result = apriori(supermarket_one_hot, min_support=0.1)\n",
    "print('apriori_result n of rows : {}'.format(apriori_result.shape[0]))"
   ]
  },
  {
   "cell_type": "code",
   "execution_count": 5,
   "metadata": {},
   "outputs": [],
   "source": [
    "# generate a bar chart, itemsets frequencies in terms of items containes\n",
    "import matplotlib\n",
    "import matplotlib.pyplot as plt\n",
    "\n",
    "max_itemsets_len = apriori_result.itemsets.map(len).max()\n",
    "frequencies = {}\n",
    "\n",
    "for i in range(1, max_itemsets_len + 1):\n",
    "\n",
    "x = np.arange(len(frequencies.keys()))  # the label locations\n",
    "width = 0.35  # the width of the bars\n",
    "fig, ax = plt.subplots()\n",
    "\n",
    "rects = ax.bar(x - width/2, frequencies.values(), width, label='itemsets')\n",
    "\n",
    "# Add value to each bar\n",
    "for rect in rects:\n",
    "    height = rect.get_height()\n",
    "    ax.annotate('{}'.format(height),\n",
    "                    xy=(rect.get_x() + rect.get_width() / 2, height),\n",
    "                    xytext=(0, 3),  # 3 points vertical offset\n",
    "                    textcoords=\"offset points\",\n",
    "                    ha='center', va='bottom')\n",
    "\n",
    "# Add some text for labels, title and custom x-axis tick labels, etc.\n",
    "ax.set_ylabel('Frequency')\n",
    "ax.set_xlabel('Items contained')\n",
    "ax.set_title('itemsets frequencies')\n",
    "ax.set_xticks(x)\n",
    "ax.set_xticklabels(frequencies.keys())\n",
    "ax.legend()\n",
    "plt.savefig('fig/itemsets_frequencies')\n",
    "plt.close(fig)"
   ]
  },
  {
   "cell_type": "code",
   "execution_count": 6,
   "metadata": {},
   "outputs": [
    {
     "name": "stdout",
     "output_type": "stream",
     "text": "Number of association rules : 24570\n-------------\nFirst association rule : \nantecedents                  (0)\nconsequents                 (11)\nantecedent support      0.226281\nconsequent support      0.719689\nsupport                 0.171601\nconfidence              0.758357\nlift                     1.05373\nleverage              0.00874991\nconviction               1.16002\nName: 0, dtype: object\n"
    }
   ],
   "source": [
    "# build association rules\n",
    "from mlxtend.frequent_patterns import association_rules\n",
    "min_threshold = 0.7\n",
    "dataset_association_rules = association_rules(apriori_result, min_threshold=min_threshold)\n",
    "print('Number of association rules : {}'.format(dataset_association_rules.shape[0]))\n",
    "print('-------------')\n",
    "print('First association rule : ')\n",
    "print(dataset_association_rules.iloc[0])"
   ]
  },
  {
   "cell_type": "code",
   "execution_count": 8,
   "metadata": {},
   "outputs": [
    {
     "data": {
      "text/html": "<div>\n<style scoped>\n    .dataframe tbody tr th:only-of-type {\n        vertical-align: middle;\n    }\n\n    .dataframe tbody tr th {\n        vertical-align: top;\n    }\n\n    .dataframe thead th {\n        text-align: right;\n    }\n</style>\n<table border=\"1\" class=\"dataframe\">\n  <thead>\n    <tr style=\"text-align: right;\">\n      <th></th>\n      <th>antecedents</th>\n      <th>consequents</th>\n      <th>antecedent support</th>\n      <th>consequent support</th>\n      <th>support</th>\n      <th>confidence</th>\n      <th>lift</th>\n      <th>leverage</th>\n      <th>conviction</th>\n    </tr>\n  </thead>\n  <tbody>\n    <tr>\n      <th>0</th>\n      <td>(0)</td>\n      <td>(11)</td>\n      <td>0.226281</td>\n      <td>0.719689</td>\n      <td>0.171601</td>\n      <td>0.758357</td>\n      <td>1.053729</td>\n      <td>0.008750</td>\n      <td>1.160023</td>\n    </tr>\n    <tr>\n      <th>1</th>\n      <td>(10)</td>\n      <td>(11)</td>\n      <td>0.133780</td>\n      <td>0.719689</td>\n      <td>0.100929</td>\n      <td>0.754443</td>\n      <td>1.048290</td>\n      <td>0.004649</td>\n      <td>1.141531</td>\n    </tr>\n    <tr>\n      <th>2</th>\n      <td>(12)</td>\n      <td>(11)</td>\n      <td>0.604063</td>\n      <td>0.719689</td>\n      <td>0.473525</td>\n      <td>0.783900</td>\n      <td>1.089221</td>\n      <td>0.038788</td>\n      <td>1.297136</td>\n    </tr>\n    <tr>\n      <th>3</th>\n      <td>(13)</td>\n      <td>(11)</td>\n      <td>0.532310</td>\n      <td>0.719689</td>\n      <td>0.403933</td>\n      <td>0.758831</td>\n      <td>1.054387</td>\n      <td>0.020836</td>\n      <td>1.162301</td>\n    </tr>\n    <tr>\n      <th>4</th>\n      <td>(14)</td>\n      <td>(11)</td>\n      <td>0.193646</td>\n      <td>0.719689</td>\n      <td>0.153231</td>\n      <td>0.791295</td>\n      <td>1.099496</td>\n      <td>0.013866</td>\n      <td>1.343095</td>\n    </tr>\n  </tbody>\n</table>\n</div>",
      "text/plain": "  antecedents consequents  antecedent support  consequent support   support  \\\n0         (0)        (11)            0.226281            0.719689  0.171601   \n1        (10)        (11)            0.133780            0.719689  0.100929   \n2        (12)        (11)            0.604063            0.719689  0.473525   \n3        (13)        (11)            0.532310            0.719689  0.403933   \n4        (14)        (11)            0.193646            0.719689  0.153231   \n\n   confidence      lift  leverage  conviction  \n0    0.758357  1.053729  0.008750    1.160023  \n1    0.754443  1.048290  0.004649    1.141531  \n2    0.783900  1.089221  0.038788    1.297136  \n3    0.758831  1.054387  0.020836    1.162301  \n4    0.791295  1.099496  0.013866    1.343095  "
     },
     "execution_count": 8,
     "metadata": {},
     "output_type": "execute_result"
    }
   ],
   "source": [
    "dataset_association_rules.head()"
   ]
  }
 ]
}