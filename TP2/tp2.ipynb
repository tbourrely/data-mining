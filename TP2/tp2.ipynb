{
 "nbformat": 4,
 "nbformat_minor": 2,
 "metadata": {
  "language_info": {
   "name": "python",
   "codemirror_mode": {
    "name": "ipython",
    "version": 3
   },
   "version": "3.7.6-final"
  },
  "orig_nbformat": 2,
  "file_extension": ".py",
  "mimetype": "text/x-python",
  "name": "python",
  "npconvert_exporter": "python",
  "pygments_lexer": "ipython3",
  "version": 3,
  "kernelspec": {
   "name": "python37664bitvenvvenv65f5fc2ba572422d87050d0a13b08264",
   "display_name": "Python 3.7.6 64-bit ('venv': venv)"
  }
 },
 "cells": [
  {
   "cell_type": "code",
   "execution_count": 153,
   "metadata": {},
   "outputs": [],
   "source": [
    "import pandas as pd\n",
    "import re"
   ]
  },
  {
   "cell_type": "code",
   "execution_count": 154,
   "metadata": {},
   "outputs": [],
   "source": [
    "eurostat = pd.read_csv('./data/eurostat/eurostat-2013.csv')"
   ]
  },
  {
   "cell_type": "code",
   "execution_count": 155,
   "metadata": {},
   "outputs": [
    {
     "data": {
      "text/html": "<div>\n<style scoped>\n    .dataframe tbody tr th:only-of-type {\n        vertical-align: middle;\n    }\n\n    .dataframe tbody tr th {\n        vertical-align: top;\n    }\n\n    .dataframe thead th {\n        text-align: right;\n    }\n</style>\n<table border=\"1\" class=\"dataframe\">\n  <thead>\n    <tr style=\"text-align: right;\">\n      <th></th>\n      <th>Nom</th>\n      <th>Code</th>\n      <th>tps00001</th>\n      <th>tec00115</th>\n      <th>teilmF</th>\n      <th>teilmM</th>\n      <th>tec00118</th>\n      <th>teimf050</th>\n      <th>tsdsc260</th>\n      <th>tet00002</th>\n      <th>tsc00001</th>\n      <th>tsc00004</th>\n    </tr>\n  </thead>\n  <tbody>\n    <tr>\n      <th>0</th>\n      <td>Autriche</td>\n      <td>AT</td>\n      <td>8451860</td>\n      <td>0.3</td>\n      <td>5.3</td>\n      <td>4.9</td>\n      <td>2.1</td>\n      <td>2.17</td>\n      <td>4.1</td>\n      <td>-5683</td>\n      <td>2.84</td>\n      <td>38637</td>\n    </tr>\n    <tr>\n      <th>1</th>\n      <td>Belgique</td>\n      <td>BE</td>\n      <td>11161642</td>\n      <td>0.2</td>\n      <td>8.1</td>\n      <td>8.8</td>\n      <td>1.2</td>\n      <td>2.43</td>\n      <td>3.9</td>\n      <td>14145</td>\n      <td>2.24</td>\n      <td>44052</td>\n    </tr>\n    <tr>\n      <th>2</th>\n      <td>Bulgarie</td>\n      <td>BG</td>\n      <td>7284552</td>\n      <td>0.9</td>\n      <td>11.8</td>\n      <td>13.7</td>\n      <td>0.4</td>\n      <td>3.43</td>\n      <td>6.6</td>\n      <td>-3610</td>\n      <td>0.64</td>\n      <td>11295</td>\n    </tr>\n    <tr>\n      <th>3</th>\n      <td>Suisse</td>\n      <td>CH</td>\n      <td>8039060</td>\n      <td>1.9</td>\n      <td>4.6</td>\n      <td>4.1</td>\n      <td>0.1</td>\n      <td>0.90</td>\n      <td>4.4</td>\n      <td>18780</td>\n      <td>2.87</td>\n      <td>25142</td>\n    </tr>\n    <tr>\n      <th>4</th>\n      <td>Chypre</td>\n      <td>CY</td>\n      <td>865878</td>\n      <td>-5.4</td>\n      <td>15.5</td>\n      <td>17.5</td>\n      <td>0.4</td>\n      <td>6.00</td>\n      <td>4.9</td>\n      <td>-3229</td>\n      <td>0.46</td>\n      <td>895</td>\n    </tr>\n  </tbody>\n</table>\n</div>",
      "text/plain": "        Nom Code  tps00001  tec00115  teilmF  teilmM  tec00118  teimf050  \\\n0  Autriche   AT   8451860       0.3     5.3     4.9       2.1      2.17   \n1  Belgique   BE  11161642       0.2     8.1     8.8       1.2      2.43   \n2  Bulgarie   BG   7284552       0.9    11.8    13.7       0.4      3.43   \n3    Suisse   CH   8039060       1.9     4.6     4.1       0.1      0.90   \n4    Chypre   CY    865878      -5.4    15.5    17.5       0.4      6.00   \n\n   tsdsc260  tet00002  tsc00001  tsc00004  \n0       4.1     -5683      2.84     38637  \n1       3.9     14145      2.24     44052  \n2       6.6     -3610      0.64     11295  \n3       4.4     18780      2.87     25142  \n4       4.9     -3229      0.46       895  "
     },
     "execution_count": 155,
     "metadata": {},
     "output_type": "execute_result"
    }
   ],
   "source": [
    "# rename columns to only use attributes indifiers\n",
    "eurostat.rename(columns={ eurostat.columns[4]: 'teilmF', eurostat.columns[5]: 'teilmM' }, inplace=True)\n",
    "eurostat.rename(columns=lambda s: re.sub('\\(.*\\)', '', s.split(' ', 1)[0]), inplace=True)\n",
    "\n",
    "eurostat.describe()\n",
    "eurostat.head()"
   ]
  },
  {
   "cell_type": "code",
   "execution_count": 156,
   "metadata": {},
   "outputs": [],
   "source": [
    "def divide_by_population(row):\n",
    "    population = row['tps00001']\n",
    "    row['teilmF'] /= population\n",
    "    row['teilmM'] /= population\n",
    "    row['tsdsc260'] /= population\n",
    "    row['tsc00004'] /= population\n",
    "\n",
    "    return row"
   ]
  },
  {
   "cell_type": "code",
   "execution_count": 157,
   "metadata": {},
   "outputs": [
    {
     "data": {
      "text/html": "<div>\n<style scoped>\n    .dataframe tbody tr th:only-of-type {\n        vertical-align: middle;\n    }\n\n    .dataframe tbody tr th {\n        vertical-align: top;\n    }\n\n    .dataframe thead th {\n        text-align: right;\n    }\n</style>\n<table border=\"1\" class=\"dataframe\">\n  <thead>\n    <tr style=\"text-align: right;\">\n      <th></th>\n      <th>Nom</th>\n      <th>Code</th>\n      <th>tec00115</th>\n      <th>teilmF</th>\n      <th>teilmM</th>\n      <th>tec00118</th>\n      <th>teimf050</th>\n      <th>tsdsc260</th>\n      <th>tet00002</th>\n      <th>tsc00001</th>\n      <th>tsc00004</th>\n    </tr>\n  </thead>\n  <tbody>\n    <tr>\n      <th>0</th>\n      <td>Autriche</td>\n      <td>AT</td>\n      <td>0.3</td>\n      <td>6.270809e-07</td>\n      <td>5.797540e-07</td>\n      <td>2.1</td>\n      <td>2.17</td>\n      <td>4.851003e-07</td>\n      <td>-5683</td>\n      <td>2.84</td>\n      <td>0.004571</td>\n    </tr>\n    <tr>\n      <th>1</th>\n      <td>Belgique</td>\n      <td>BE</td>\n      <td>0.2</td>\n      <td>7.256997e-07</td>\n      <td>7.884145e-07</td>\n      <td>1.2</td>\n      <td>2.43</td>\n      <td>3.494110e-07</td>\n      <td>14145</td>\n      <td>2.24</td>\n      <td>0.003947</td>\n    </tr>\n    <tr>\n      <th>2</th>\n      <td>Bulgarie</td>\n      <td>BG</td>\n      <td>0.9</td>\n      <td>1.619866e-06</td>\n      <td>1.880692e-06</td>\n      <td>0.4</td>\n      <td>3.43</td>\n      <td>9.060269e-07</td>\n      <td>-3610</td>\n      <td>0.64</td>\n      <td>0.001551</td>\n    </tr>\n    <tr>\n      <th>3</th>\n      <td>Suisse</td>\n      <td>CH</td>\n      <td>1.9</td>\n      <td>5.722062e-07</td>\n      <td>5.100099e-07</td>\n      <td>0.1</td>\n      <td>0.90</td>\n      <td>5.473277e-07</td>\n      <td>18780</td>\n      <td>2.87</td>\n      <td>0.003127</td>\n    </tr>\n    <tr>\n      <th>4</th>\n      <td>Chypre</td>\n      <td>CY</td>\n      <td>-5.4</td>\n      <td>1.790091e-05</td>\n      <td>2.021070e-05</td>\n      <td>0.4</td>\n      <td>6.00</td>\n      <td>5.658996e-06</td>\n      <td>-3229</td>\n      <td>0.46</td>\n      <td>0.001034</td>\n    </tr>\n  </tbody>\n</table>\n</div>",
      "text/plain": "        Nom Code  tec00115        teilmF        teilmM  tec00118  teimf050  \\\n0  Autriche   AT       0.3  6.270809e-07  5.797540e-07       2.1      2.17   \n1  Belgique   BE       0.2  7.256997e-07  7.884145e-07       1.2      2.43   \n2  Bulgarie   BG       0.9  1.619866e-06  1.880692e-06       0.4      3.43   \n3    Suisse   CH       1.9  5.722062e-07  5.100099e-07       0.1      0.90   \n4    Chypre   CY      -5.4  1.790091e-05  2.021070e-05       0.4      6.00   \n\n       tsdsc260  tet00002  tsc00001  tsc00004  \n0  4.851003e-07     -5683      2.84  0.004571  \n1  3.494110e-07     14145      2.24  0.003947  \n2  9.060269e-07     -3610      0.64  0.001551  \n3  5.473277e-07     18780      2.87  0.003127  \n4  5.658996e-06     -3229      0.46  0.001034  "
     },
     "execution_count": 157,
     "metadata": {},
     "output_type": "execute_result"
    }
   ],
   "source": [
    "eurostat = eurostat.apply(divide_by_population, axis=1) # divide some rows by the population row value\n",
    "eurostat = eurostat.drop(['tps00001'], axis=1) # delete the population column\n",
    "eurostat.head()"
   ]
  },
  {
   "cell_type": "code",
   "execution_count": 158,
   "metadata": {},
   "outputs": [
    {
     "data": {
      "text/html": "<div>\n<style scoped>\n    .dataframe tbody tr th:only-of-type {\n        vertical-align: middle;\n    }\n\n    .dataframe tbody tr th {\n        vertical-align: top;\n    }\n\n    .dataframe thead th {\n        text-align: right;\n    }\n</style>\n<table border=\"1\" class=\"dataframe\">\n  <thead>\n    <tr style=\"text-align: right;\">\n      <th></th>\n      <th>Nom</th>\n      <th>Code</th>\n      <th>tec00115</th>\n      <th>teilmF</th>\n      <th>teilmM</th>\n      <th>tec00118</th>\n      <th>teimf050</th>\n      <th>tsdsc260</th>\n      <th>tet00002</th>\n      <th>tsc00001</th>\n      <th>tsc00004</th>\n    </tr>\n  </thead>\n  <tbody>\n    <tr>\n      <th>0</th>\n      <td>Autriche</td>\n      <td>AT</td>\n      <td>-0.054714</td>\n      <td>-0.487096</td>\n      <td>-0.488163</td>\n      <td>0.882521</td>\n      <td>-0.663659</td>\n      <td>-0.381770</td>\n      <td>0.016166</td>\n      <td>1.108564</td>\n      <td>0.722569</td>\n    </tr>\n    <tr>\n      <th>1</th>\n      <td>Belgique</td>\n      <td>BE</td>\n      <td>-0.104869</td>\n      <td>-0.463321</td>\n      <td>-0.442513</td>\n      <td>-0.097691</td>\n      <td>-0.515720</td>\n      <td>-0.442140</td>\n      <td>0.205697</td>\n      <td>0.462228</td>\n      <td>0.322147</td>\n    </tr>\n    <tr>\n      <th>2</th>\n      <td>Bulgarie</td>\n      <td>BG</td>\n      <td>0.246214</td>\n      <td>-0.247752</td>\n      <td>-0.203546</td>\n      <td>-0.968991</td>\n      <td>0.053279</td>\n      <td>-0.194493</td>\n      <td>0.035982</td>\n      <td>-1.261334</td>\n      <td>-1.213797</td>\n    </tr>\n    <tr>\n      <th>3</th>\n      <td>Suisse</td>\n      <td>CH</td>\n      <td>0.747760</td>\n      <td>-0.500326</td>\n      <td>-0.503422</td>\n      <td>-1.295728</td>\n      <td>-1.386287</td>\n      <td>-0.354084</td>\n      <td>0.250002</td>\n      <td>1.140880</td>\n      <td>-0.202988</td>\n    </tr>\n    <tr>\n      <th>4</th>\n      <td>Chypre</td>\n      <td>CY</td>\n      <td>-2.913529</td>\n      <td>3.677346</td>\n      <td>3.806666</td>\n      <td>-0.968991</td>\n      <td>1.515605</td>\n      <td>1.920175</td>\n      <td>0.039624</td>\n      <td>-1.455235</td>\n      <td>-1.545133</td>\n    </tr>\n  </tbody>\n</table>\n</div>",
      "text/plain": "        Nom Code  tec00115    teilmF    teilmM  tec00118  teimf050  tsdsc260  \\\n0  Autriche   AT -0.054714 -0.487096 -0.488163  0.882521 -0.663659 -0.381770   \n1  Belgique   BE -0.104869 -0.463321 -0.442513 -0.097691 -0.515720 -0.442140   \n2  Bulgarie   BG  0.246214 -0.247752 -0.203546 -0.968991  0.053279 -0.194493   \n3    Suisse   CH  0.747760 -0.500326 -0.503422 -1.295728 -1.386287 -0.354084   \n4    Chypre   CY -2.913529  3.677346  3.806666 -0.968991  1.515605  1.920175   \n\n   tet00002  tsc00001  tsc00004  \n0  0.016166  1.108564  0.722569  \n1  0.205697  0.462228  0.322147  \n2  0.035982 -1.261334 -1.213797  \n3  0.250002  1.140880 -0.202988  \n4  0.039624 -1.455235 -1.545133  "
     },
     "execution_count": 158,
     "metadata": {},
     "output_type": "execute_result"
    }
   ],
   "source": [
    "# apply a normalization filter : StandardScaler\n",
    "from sklearn.preprocessing import StandardScaler\n",
    "scaler = StandardScaler()\n",
    "\n",
    "normalized_eurostat = eurostat.copy()\n",
    "numerical_columns = ['tec00115', 'teilmF', 'teilmM', 'tec00118', 'teimf050', 'tsdsc260', 'tet00002', 'tsc00001', 'tsc00004']\n",
    "normalized_eurostat[numerical_columns] = scaler.fit_transform(eurostat[numerical_columns])\n",
    "\n",
    "normalized_eurostat.head()"
   ]
  },
  {
   "cell_type": "code",
   "execution_count": null,
   "metadata": {},
   "outputs": [],
   "source": []
  }
 ]
}