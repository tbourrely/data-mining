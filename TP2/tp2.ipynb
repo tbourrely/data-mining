{
 "nbformat": 4,
 "nbformat_minor": 2,
 "metadata": {
  "language_info": {
   "name": "python",
   "codemirror_mode": {
    "name": "ipython",
    "version": 3
   },
   "version": "3.7.6-final"
  },
  "orig_nbformat": 2,
  "file_extension": ".py",
  "mimetype": "text/x-python",
  "name": "python",
  "npconvert_exporter": "python",
  "pygments_lexer": "ipython3",
  "version": 3,
  "kernelspec": {
   "name": "python37664bitvenvvenv65f5fc2ba572422d87050d0a13b08264",
   "display_name": "Python 3.7.6 64-bit ('venv': venv)"
  }
 },
 "cells": [
  {
   "cell_type": "code",
   "execution_count": 1,
   "metadata": {},
   "outputs": [],
   "source": [
    "import pandas as pd\n",
    "import re\n",
    "import matplotlib\n",
    "import matplotlib.pyplot as plt\n",
    "import numpy as np"
   ]
  },
  {
   "cell_type": "code",
   "execution_count": 2,
   "metadata": {},
   "outputs": [],
   "source": [
    "eurostat = pd.read_csv('./data/eurostat/eurostat-2013.csv')"
   ]
  },
  {
   "cell_type": "code",
   "execution_count": 3,
   "metadata": {},
   "outputs": [
    {
     "data": {
      "text/html": "<div>\n<style scoped>\n    .dataframe tbody tr th:only-of-type {\n        vertical-align: middle;\n    }\n\n    .dataframe tbody tr th {\n        vertical-align: top;\n    }\n\n    .dataframe thead th {\n        text-align: right;\n    }\n</style>\n<table border=\"1\" class=\"dataframe\">\n  <thead>\n    <tr style=\"text-align: right;\">\n      <th></th>\n      <th>Nom</th>\n      <th>Code</th>\n      <th>tps00001</th>\n      <th>tec00115</th>\n      <th>teilmF</th>\n      <th>teilmM</th>\n      <th>tec00118</th>\n      <th>teimf050</th>\n      <th>tsdsc260</th>\n      <th>tet00002</th>\n      <th>tsc00001</th>\n      <th>tsc00004</th>\n    </tr>\n  </thead>\n  <tbody>\n    <tr>\n      <th>0</th>\n      <td>Autriche</td>\n      <td>AT</td>\n      <td>8451860</td>\n      <td>0.3</td>\n      <td>5.3</td>\n      <td>4.9</td>\n      <td>2.1</td>\n      <td>2.17</td>\n      <td>4.1</td>\n      <td>-5683</td>\n      <td>2.84</td>\n      <td>38637</td>\n    </tr>\n    <tr>\n      <th>1</th>\n      <td>Belgique</td>\n      <td>BE</td>\n      <td>11161642</td>\n      <td>0.2</td>\n      <td>8.1</td>\n      <td>8.8</td>\n      <td>1.2</td>\n      <td>2.43</td>\n      <td>3.9</td>\n      <td>14145</td>\n      <td>2.24</td>\n      <td>44052</td>\n    </tr>\n    <tr>\n      <th>2</th>\n      <td>Bulgarie</td>\n      <td>BG</td>\n      <td>7284552</td>\n      <td>0.9</td>\n      <td>11.8</td>\n      <td>13.7</td>\n      <td>0.4</td>\n      <td>3.43</td>\n      <td>6.6</td>\n      <td>-3610</td>\n      <td>0.64</td>\n      <td>11295</td>\n    </tr>\n    <tr>\n      <th>3</th>\n      <td>Suisse</td>\n      <td>CH</td>\n      <td>8039060</td>\n      <td>1.9</td>\n      <td>4.6</td>\n      <td>4.1</td>\n      <td>0.1</td>\n      <td>0.90</td>\n      <td>4.4</td>\n      <td>18780</td>\n      <td>2.87</td>\n      <td>25142</td>\n    </tr>\n    <tr>\n      <th>4</th>\n      <td>Chypre</td>\n      <td>CY</td>\n      <td>865878</td>\n      <td>-5.4</td>\n      <td>15.5</td>\n      <td>17.5</td>\n      <td>0.4</td>\n      <td>6.00</td>\n      <td>4.9</td>\n      <td>-3229</td>\n      <td>0.46</td>\n      <td>895</td>\n    </tr>\n  </tbody>\n</table>\n</div>",
      "text/plain": "        Nom Code  tps00001  tec00115  teilmF  teilmM  tec00118  teimf050  \\\n0  Autriche   AT   8451860       0.3     5.3     4.9       2.1      2.17   \n1  Belgique   BE  11161642       0.2     8.1     8.8       1.2      2.43   \n2  Bulgarie   BG   7284552       0.9    11.8    13.7       0.4      3.43   \n3    Suisse   CH   8039060       1.9     4.6     4.1       0.1      0.90   \n4    Chypre   CY    865878      -5.4    15.5    17.5       0.4      6.00   \n\n   tsdsc260  tet00002  tsc00001  tsc00004  \n0       4.1     -5683      2.84     38637  \n1       3.9     14145      2.24     44052  \n2       6.6     -3610      0.64     11295  \n3       4.4     18780      2.87     25142  \n4       4.9     -3229      0.46       895  "
     },
     "execution_count": 3,
     "metadata": {},
     "output_type": "execute_result"
    }
   ],
   "source": [
    "# rename columns to only use attributes indifiers\n",
    "eurostat.rename(columns={ eurostat.columns[4]: 'teilmF', eurostat.columns[5]: 'teilmM' }, inplace=True)\n",
    "eurostat.rename(columns=lambda s: re.sub('\\(.*\\)', '', s.split(' ', 1)[0]), inplace=True)\n",
    "\n",
    "eurostat.describe()\n",
    "eurostat.head()"
   ]
  },
  {
   "cell_type": "code",
   "execution_count": 4,
   "metadata": {},
   "outputs": [],
   "source": [
    "def divide_by_population(row):\n",
    "    population = row['tps00001']\n",
    "    row['teilmF'] /= population\n",
    "    row['teilmM'] /= population\n",
    "    row['tsdsc260'] /= population\n",
    "    row['tsc00004'] /= population\n",
    "\n",
    "    return row"
   ]
  },
  {
   "cell_type": "code",
   "execution_count": 6,
   "metadata": {},
   "outputs": [
    {
     "data": {
      "text/html": "<div>\n<style scoped>\n    .dataframe tbody tr th:only-of-type {\n        vertical-align: middle;\n    }\n\n    .dataframe tbody tr th {\n        vertical-align: top;\n    }\n\n    .dataframe thead th {\n        text-align: right;\n    }\n</style>\n<table border=\"1\" class=\"dataframe\">\n  <thead>\n    <tr style=\"text-align: right;\">\n      <th></th>\n      <th>Nom</th>\n      <th>Code</th>\n      <th>tec00115</th>\n      <th>teilmF</th>\n      <th>teilmM</th>\n      <th>tec00118</th>\n      <th>teimf050</th>\n      <th>tsdsc260</th>\n      <th>tet00002</th>\n      <th>tsc00001</th>\n      <th>tsc00004</th>\n    </tr>\n  </thead>\n  <tbody>\n    <tr>\n      <th>0</th>\n      <td>Autriche</td>\n      <td>AT</td>\n      <td>0.3</td>\n      <td>6.270809e-07</td>\n      <td>5.797540e-07</td>\n      <td>2.1</td>\n      <td>2.17</td>\n      <td>4.851003e-07</td>\n      <td>-5683</td>\n      <td>2.84</td>\n      <td>0.004571</td>\n    </tr>\n    <tr>\n      <th>1</th>\n      <td>Belgique</td>\n      <td>BE</td>\n      <td>0.2</td>\n      <td>7.256997e-07</td>\n      <td>7.884145e-07</td>\n      <td>1.2</td>\n      <td>2.43</td>\n      <td>3.494110e-07</td>\n      <td>14145</td>\n      <td>2.24</td>\n      <td>0.003947</td>\n    </tr>\n    <tr>\n      <th>2</th>\n      <td>Bulgarie</td>\n      <td>BG</td>\n      <td>0.9</td>\n      <td>1.619866e-06</td>\n      <td>1.880692e-06</td>\n      <td>0.4</td>\n      <td>3.43</td>\n      <td>9.060269e-07</td>\n      <td>-3610</td>\n      <td>0.64</td>\n      <td>0.001551</td>\n    </tr>\n    <tr>\n      <th>3</th>\n      <td>Suisse</td>\n      <td>CH</td>\n      <td>1.9</td>\n      <td>5.722062e-07</td>\n      <td>5.100099e-07</td>\n      <td>0.1</td>\n      <td>0.90</td>\n      <td>5.473277e-07</td>\n      <td>18780</td>\n      <td>2.87</td>\n      <td>0.003127</td>\n    </tr>\n    <tr>\n      <th>4</th>\n      <td>Chypre</td>\n      <td>CY</td>\n      <td>-5.4</td>\n      <td>1.790091e-05</td>\n      <td>2.021070e-05</td>\n      <td>0.4</td>\n      <td>6.00</td>\n      <td>5.658996e-06</td>\n      <td>-3229</td>\n      <td>0.46</td>\n      <td>0.001034</td>\n    </tr>\n  </tbody>\n</table>\n</div>",
      "text/plain": "        Nom Code  tec00115        teilmF        teilmM  tec00118  teimf050  \\\n0  Autriche   AT       0.3  6.270809e-07  5.797540e-07       2.1      2.17   \n1  Belgique   BE       0.2  7.256997e-07  7.884145e-07       1.2      2.43   \n2  Bulgarie   BG       0.9  1.619866e-06  1.880692e-06       0.4      3.43   \n3    Suisse   CH       1.9  5.722062e-07  5.100099e-07       0.1      0.90   \n4    Chypre   CY      -5.4  1.790091e-05  2.021070e-05       0.4      6.00   \n\n       tsdsc260  tet00002  tsc00001  tsc00004  \n0  4.851003e-07     -5683      2.84  0.004571  \n1  3.494110e-07     14145      2.24  0.003947  \n2  9.060269e-07     -3610      0.64  0.001551  \n3  5.473277e-07     18780      2.87  0.003127  \n4  5.658996e-06     -3229      0.46  0.001034  "
     },
     "execution_count": 6,
     "metadata": {},
     "output_type": "execute_result"
    }
   ],
   "source": [
    "eurostat = eurostat.apply(divide_by_population, axis=1) # divide some rows by the population row value\n",
    "eurostat = eurostat.drop(['tps00001'], axis=1) # delete the population column\n",
    "eurostat.head()"
   ]
  },
  {
   "cell_type": "code",
   "execution_count": 5,
   "metadata": {},
   "outputs": [
    {
     "data": {
      "text/html": "<div>\n<style scoped>\n    .dataframe tbody tr th:only-of-type {\n        vertical-align: middle;\n    }\n\n    .dataframe tbody tr th {\n        vertical-align: top;\n    }\n\n    .dataframe thead th {\n        text-align: right;\n    }\n</style>\n<table border=\"1\" class=\"dataframe\">\n  <thead>\n    <tr style=\"text-align: right;\">\n      <th></th>\n      <th>tec00115</th>\n      <th>teilmF</th>\n      <th>teilmM</th>\n      <th>tec00118</th>\n      <th>teimf050</th>\n      <th>tsdsc260</th>\n      <th>tet00002</th>\n      <th>tsc00001</th>\n      <th>tsc00004</th>\n    </tr>\n  </thead>\n  <tbody>\n    <tr>\n      <th>0</th>\n      <td>-0.054714</td>\n      <td>-0.888476</td>\n      <td>-1.095353</td>\n      <td>0.882521</td>\n      <td>-0.663659</td>\n      <td>-0.605038</td>\n      <td>0.016166</td>\n      <td>1.108564</td>\n      <td>-0.391993</td>\n    </tr>\n    <tr>\n      <th>1</th>\n      <td>-0.104869</td>\n      <td>-0.399232</td>\n      <td>-0.317362</td>\n      <td>-0.097691</td>\n      <td>-0.515720</td>\n      <td>-0.712096</td>\n      <td>0.205697</td>\n      <td>0.462228</td>\n      <td>-0.378735</td>\n    </tr>\n    <tr>\n      <th>2</th>\n      <td>0.246214</td>\n      <td>0.247270</td>\n      <td>0.660113</td>\n      <td>-0.968991</td>\n      <td>0.053279</td>\n      <td>0.733183</td>\n      <td>0.035982</td>\n      <td>-1.261334</td>\n      <td>-0.458939</td>\n    </tr>\n    <tr>\n      <th>3</th>\n      <td>0.747760</td>\n      <td>-1.010787</td>\n      <td>-1.254940</td>\n      <td>-1.295728</td>\n      <td>-1.386287</td>\n      <td>-0.444452</td>\n      <td>0.250002</td>\n      <td>1.140880</td>\n      <td>-0.425035</td>\n    </tr>\n    <tr>\n      <th>4</th>\n      <td>-2.913529</td>\n      <td>0.893771</td>\n      <td>1.418155</td>\n      <td>-0.968991</td>\n      <td>1.515605</td>\n      <td>-0.176807</td>\n      <td>0.039624</td>\n      <td>-1.455235</td>\n      <td>-0.484403</td>\n    </tr>\n  </tbody>\n</table>\n</div>",
      "text/plain": "   tec00115    teilmF    teilmM  tec00118  teimf050  tsdsc260  tet00002  \\\n0 -0.054714 -0.888476 -1.095353  0.882521 -0.663659 -0.605038  0.016166   \n1 -0.104869 -0.399232 -0.317362 -0.097691 -0.515720 -0.712096  0.205697   \n2  0.246214  0.247270  0.660113 -0.968991  0.053279  0.733183  0.035982   \n3  0.747760 -1.010787 -1.254940 -1.295728 -1.386287 -0.444452  0.250002   \n4 -2.913529  0.893771  1.418155 -0.968991  1.515605 -0.176807  0.039624   \n\n   tsc00001  tsc00004  \n0  1.108564 -0.391993  \n1  0.462228 -0.378735  \n2 -1.261334 -0.458939  \n3  1.140880 -0.425035  \n4 -1.455235 -0.484403  "
     },
     "execution_count": 5,
     "metadata": {},
     "output_type": "execute_result"
    }
   ],
   "source": [
    "# apply a normalization filter : StandardScaler\n",
    "from sklearn.preprocessing import StandardScaler\n",
    "scaler = StandardScaler()\n",
    "\n",
    "numerical_columns = ['tec00115', 'teilmF', 'teilmM', 'tec00118', 'teimf050', 'tsdsc260', 'tet00002', 'tsc00001', 'tsc00004']\n",
    "X_norm = pd.DataFrame(scaler.fit_transform(eurostat[numerical_columns]), columns=numerical_columns)\n",
    "y = eurostat[['Nom', 'Code']]\n",
    "X_norm.head()"
   ]
  },
  {
   "cell_type": "code",
   "execution_count": 7,
   "metadata": {},
   "outputs": [],
   "source": [
    "# ACP\n",
    "from sklearn.decomposition import PCA\n",
    "acp = PCA(svd_solver='full')\n",
    "coord = acp.fit_transform(X_norm)\n",
    "\n",
    "n = X_norm.shape[0] # number of rows\n",
    "p = X_norm.shape[1] # number of columns"
   ]
  },
  {
   "cell_type": "code",
   "execution_count": 8,
   "metadata": {},
   "outputs": [],
   "source": [
    "# plot instances on the first plan (first 2 factors)\n",
    "fig, axes = plt.subplots(figsize=(12,12))\n",
    "axes.set_xlim(-1,1)\n",
    "axes.set_ylim(-1,1)\n",
    "for i in range(n):\n",
    "    plt.annotate(y.values[i][1],(coord[i,0],coord[i,1]))\n",
    "plt.plot([-1,1],[0,0],color='silver',linestyle='-',linewidth=1)\n",
    "plt.plot([0,0],[-1,1],color='silver',linestyle='-',linewidth=1)\n",
    "plt.savefig('fig/acp_instances_1st_plan_CP1_CP2')\n",
    "plt.close(fig)\n",
    "\n",
    "# plot instances on the first plan (first 2 factors)\n",
    "fig, axes = plt.subplots(figsize=(12,12))\n",
    "axes.set_xlim(-1,1)\n",
    "axes.set_ylim(-1,1)\n",
    "for i in range(n):\n",
    "    plt.annotate(y.values[i][1],(coord[i,2],coord[i,3]))\n",
    "plt.plot([-1,1],[0,0],color='silver',linestyle='-',linewidth=1)\n",
    "plt.plot([0,0],[-1,1],color='silver',linestyle='-',linewidth=1)\n",
    "plt.savefig('fig/acp_instances_1st_plan_CP3_CP4')\n",
    "plt.close(fig)"
   ]
  },
  {
   "cell_type": "code",
   "execution_count": 9,
   "metadata": {},
   "outputs": [
    {
     "name": "stdout",
     "output_type": "stream",
     "text": "[[-6.20323156e-01  1.78332749e-01  6.11060162e-01  2.30380573e-01\n   2.67562266e-01  1.45327180e-01 -2.53379003e-01 -4.02993004e-03\n   4.08245781e-04]\n [ 9.39304386e-01  6.99487007e-02 -1.12643954e-01 -9.63445355e-02\n   2.08174037e-02  2.43669696e-01 -1.21394398e-01 -2.69623139e-02\n  -1.24786494e-01]\n [ 9.32647352e-01  6.79436997e-02 -3.05931057e-02 -1.06016012e-01\n   6.29553948e-02  3.01617795e-01 -5.11387366e-02 -2.73279584e-02\n   1.22794844e-01]\n [-4.13280268e-01 -1.62359232e-01  3.05026865e-01 -8.29350697e-01\n  -1.14375210e-01  6.53403702e-02 -2.18133569e-02  6.43188412e-02\n  -3.33827011e-03]\n [ 8.39120540e-01  1.43911876e-01  1.53021455e-01 -7.65743220e-02\n  -5.98816183e-02 -4.30830392e-01 -2.13507458e-01  1.04069598e-01\n   1.64422459e-02]\n [ 3.43189486e-02  9.35032992e-01  7.71336198e-02  4.78088048e-02\n  -5.75038622e-05  9.48058128e-02  1.28364444e-01  3.01289028e-01\n  -7.71888598e-03]\n [ 1.00870624e-01 -8.40786525e-01 -1.52256847e-01  6.00657618e-03\n   4.48520915e-01  4.45805675e-03  2.12544791e-02  2.40892788e-01\n  -3.59683160e-03]\n [-6.54402285e-01  9.14754667e-03 -6.52752882e-01  2.71892828e-02\n  -2.45022511e-01  9.63847162e-02 -2.48295574e-01  1.16553976e-01\n   1.69358929e-02]\n [-2.31660729e-01  6.37132110e-01 -4.16991550e-01 -2.99272580e-01\n   4.95979682e-01 -1.20263525e-01 -2.44012929e-02 -1.26056491e-01\n   2.26452839e-03]]\n"
    }
   ],
   "source": [
    "# plot eigen values\n",
    "eigval = float(n-1)/n*acp.explained_variance_\n",
    "fig = plt.figure()\n",
    "plt.plot(np.arange(1,p+1),eigval)\n",
    "plt.title(\"Scree plot\")\n",
    "plt.ylabel(\"Eigen values\")\n",
    "plt.xlabel(\"Factor number\")\n",
    "plt.savefig('fig/acp_eigen_values')\n",
    "plt.close(fig)\n",
    "\n",
    "# print correlations between factors and original variables\n",
    "sqrt_eigval = np.sqrt(eigval)\n",
    "corvar = np.zeros((p,p))\n",
    "for k in range(p):\n",
    "    corvar[:,k] = acp.components_[k,:] * sqrt_eigval[k]\n",
    "print(corvar)\n",
    "# lines: variables\n",
    "# columns: factors"
   ]
  },
  {
   "cell_type": "code",
   "execution_count": 11,
   "metadata": {},
   "outputs": [],
   "source": [
    "# draw correlation circles\n",
    "from tp2_1_1 import correlation_circle\n",
    "\n",
    "# CP1 & CP2\n",
    "correlation_circle(df=X_norm, nb_var=p, x_axis=0, y_axis=1, corvar=corvar, plt=plt)\n",
    "# CP3 & CP4\n",
    "correlation_circle(df=X_norm, nb_var=p, x_axis=2, y_axis=3, corvar=corvar, plt=plt)"
   ]
  },
  {
   "cell_type": "code",
   "execution_count": null,
   "metadata": {},
   "outputs": [],
   "source": []
  }
 ]
}