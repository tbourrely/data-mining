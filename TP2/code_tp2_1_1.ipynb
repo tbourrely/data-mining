{
 "nbformat": 4,
 "nbformat_minor": 2,
 "metadata": {
  "language_info": {
   "name": "python",
   "codemirror_mode": {
    "name": "ipython",
    "version": 3
   },
   "version": "3.7.6-final"
  },
  "orig_nbformat": 2,
  "file_extension": ".py",
  "mimetype": "text/x-python",
  "name": "python",
  "npconvert_exporter": "python",
  "pygments_lexer": "ipython3",
  "version": 3,
  "kernelspec": {
   "name": "python37664bitvenvvenv65f5fc2ba572422d87050d0a13b08264",
   "display_name": "Python 3.7.6 64-bit ('venv': venv)"
  }
 },
 "cells": [
  {
   "cell_type": "code",
   "execution_count": 1,
   "metadata": {},
   "outputs": [],
   "source": [
    "import pandas as pd\n",
    "import re\n",
    "import matplotlib\n",
    "import matplotlib.pyplot as plt\n",
    "import numpy as np"
   ]
  },
  {
   "cell_type": "code",
   "execution_count": 2,
   "metadata": {},
   "outputs": [],
   "source": [
    "eurostat = pd.read_csv('./data/eurostat/eurostat-2013.csv')"
   ]
  },
  {
   "cell_type": "code",
   "execution_count": 3,
   "metadata": {},
   "outputs": [
    {
     "data": {
      "text/html": "<div>\n<style scoped>\n    .dataframe tbody tr th:only-of-type {\n        vertical-align: middle;\n    }\n\n    .dataframe tbody tr th {\n        vertical-align: top;\n    }\n\n    .dataframe thead th {\n        text-align: right;\n    }\n</style>\n<table border=\"1\" class=\"dataframe\">\n  <thead>\n    <tr style=\"text-align: right;\">\n      <th></th>\n      <th>Nom</th>\n      <th>Code</th>\n      <th>tps00001</th>\n      <th>tec00115</th>\n      <th>teilmF</th>\n      <th>teilmM</th>\n      <th>tec00118</th>\n      <th>teimf050</th>\n      <th>tsdsc260</th>\n      <th>tet00002</th>\n      <th>tsc00001</th>\n      <th>tsc00004</th>\n    </tr>\n  </thead>\n  <tbody>\n    <tr>\n      <th>0</th>\n      <td>Autriche</td>\n      <td>AT</td>\n      <td>8451860</td>\n      <td>0.3</td>\n      <td>5.3</td>\n      <td>4.9</td>\n      <td>2.1</td>\n      <td>2.17</td>\n      <td>4.1</td>\n      <td>-5683</td>\n      <td>2.84</td>\n      <td>38637</td>\n    </tr>\n    <tr>\n      <th>1</th>\n      <td>Belgique</td>\n      <td>BE</td>\n      <td>11161642</td>\n      <td>0.2</td>\n      <td>8.1</td>\n      <td>8.8</td>\n      <td>1.2</td>\n      <td>2.43</td>\n      <td>3.9</td>\n      <td>14145</td>\n      <td>2.24</td>\n      <td>44052</td>\n    </tr>\n    <tr>\n      <th>2</th>\n      <td>Bulgarie</td>\n      <td>BG</td>\n      <td>7284552</td>\n      <td>0.9</td>\n      <td>11.8</td>\n      <td>13.7</td>\n      <td>0.4</td>\n      <td>3.43</td>\n      <td>6.6</td>\n      <td>-3610</td>\n      <td>0.64</td>\n      <td>11295</td>\n    </tr>\n    <tr>\n      <th>3</th>\n      <td>Suisse</td>\n      <td>CH</td>\n      <td>8039060</td>\n      <td>1.9</td>\n      <td>4.6</td>\n      <td>4.1</td>\n      <td>0.1</td>\n      <td>0.90</td>\n      <td>4.4</td>\n      <td>18780</td>\n      <td>2.87</td>\n      <td>25142</td>\n    </tr>\n    <tr>\n      <th>4</th>\n      <td>Chypre</td>\n      <td>CY</td>\n      <td>865878</td>\n      <td>-5.4</td>\n      <td>15.5</td>\n      <td>17.5</td>\n      <td>0.4</td>\n      <td>6.00</td>\n      <td>4.9</td>\n      <td>-3229</td>\n      <td>0.46</td>\n      <td>895</td>\n    </tr>\n  </tbody>\n</table>\n</div>",
      "text/plain": "        Nom Code  tps00001  tec00115  teilmF  teilmM  tec00118  teimf050  \\\n0  Autriche   AT   8451860       0.3     5.3     4.9       2.1      2.17   \n1  Belgique   BE  11161642       0.2     8.1     8.8       1.2      2.43   \n2  Bulgarie   BG   7284552       0.9    11.8    13.7       0.4      3.43   \n3    Suisse   CH   8039060       1.9     4.6     4.1       0.1      0.90   \n4    Chypre   CY    865878      -5.4    15.5    17.5       0.4      6.00   \n\n   tsdsc260  tet00002  tsc00001  tsc00004  \n0       4.1     -5683      2.84     38637  \n1       3.9     14145      2.24     44052  \n2       6.6     -3610      0.64     11295  \n3       4.4     18780      2.87     25142  \n4       4.9     -3229      0.46       895  "
     },
     "execution_count": 3,
     "metadata": {},
     "output_type": "execute_result"
    }
   ],
   "source": [
    "# rename columns to only use attributes indifiers\n",
    "eurostat.rename(columns={ eurostat.columns[4]: 'teilmF', eurostat.columns[5]: 'teilmM' }, inplace=True)\n",
    "eurostat.rename(columns=lambda s: re.sub('\\(.*\\)', '', s.split(' ', 1)[0]), inplace=True)\n",
    "\n",
    "eurostat.describe()\n",
    "eurostat.head()"
   ]
  },
  {
   "cell_type": "code",
   "execution_count": 4,
   "metadata": {},
   "outputs": [],
   "source": [
    "def divide_by_population(row):\n",
    "    population = row['tps00001']\n",
    "    row['teilmF'] /= population\n",
    "    row['teilmM'] /= population\n",
    "    row['tsdsc260'] /= population\n",
    "    row['tsc00004'] /= population\n",
    "\n",
    "    return row"
   ]
  },
  {
   "cell_type": "code",
   "execution_count": 5,
   "metadata": {},
   "outputs": [
    {
     "data": {
      "text/html": "<div>\n<style scoped>\n    .dataframe tbody tr th:only-of-type {\n        vertical-align: middle;\n    }\n\n    .dataframe tbody tr th {\n        vertical-align: top;\n    }\n\n    .dataframe thead th {\n        text-align: right;\n    }\n</style>\n<table border=\"1\" class=\"dataframe\">\n  <thead>\n    <tr style=\"text-align: right;\">\n      <th></th>\n      <th>Nom</th>\n      <th>Code</th>\n      <th>tec00115</th>\n      <th>teilmF</th>\n      <th>teilmM</th>\n      <th>tec00118</th>\n      <th>teimf050</th>\n      <th>tsdsc260</th>\n      <th>tet00002</th>\n      <th>tsc00001</th>\n      <th>tsc00004</th>\n    </tr>\n  </thead>\n  <tbody>\n    <tr>\n      <th>0</th>\n      <td>Autriche</td>\n      <td>AT</td>\n      <td>0.3</td>\n      <td>6.270809e-07</td>\n      <td>5.797540e-07</td>\n      <td>2.1</td>\n      <td>2.17</td>\n      <td>4.851003e-07</td>\n      <td>-5683</td>\n      <td>2.84</td>\n      <td>0.004571</td>\n    </tr>\n    <tr>\n      <th>1</th>\n      <td>Belgique</td>\n      <td>BE</td>\n      <td>0.2</td>\n      <td>7.256997e-07</td>\n      <td>7.884145e-07</td>\n      <td>1.2</td>\n      <td>2.43</td>\n      <td>3.494110e-07</td>\n      <td>14145</td>\n      <td>2.24</td>\n      <td>0.003947</td>\n    </tr>\n    <tr>\n      <th>2</th>\n      <td>Bulgarie</td>\n      <td>BG</td>\n      <td>0.9</td>\n      <td>1.619866e-06</td>\n      <td>1.880692e-06</td>\n      <td>0.4</td>\n      <td>3.43</td>\n      <td>9.060269e-07</td>\n      <td>-3610</td>\n      <td>0.64</td>\n      <td>0.001551</td>\n    </tr>\n    <tr>\n      <th>3</th>\n      <td>Suisse</td>\n      <td>CH</td>\n      <td>1.9</td>\n      <td>5.722062e-07</td>\n      <td>5.100099e-07</td>\n      <td>0.1</td>\n      <td>0.90</td>\n      <td>5.473277e-07</td>\n      <td>18780</td>\n      <td>2.87</td>\n      <td>0.003127</td>\n    </tr>\n    <tr>\n      <th>4</th>\n      <td>Chypre</td>\n      <td>CY</td>\n      <td>-5.4</td>\n      <td>1.790091e-05</td>\n      <td>2.021070e-05</td>\n      <td>0.4</td>\n      <td>6.00</td>\n      <td>5.658996e-06</td>\n      <td>-3229</td>\n      <td>0.46</td>\n      <td>0.001034</td>\n    </tr>\n  </tbody>\n</table>\n</div>",
      "text/plain": "        Nom Code  tec00115        teilmF        teilmM  tec00118  teimf050  \\\n0  Autriche   AT       0.3  6.270809e-07  5.797540e-07       2.1      2.17   \n1  Belgique   BE       0.2  7.256997e-07  7.884145e-07       1.2      2.43   \n2  Bulgarie   BG       0.9  1.619866e-06  1.880692e-06       0.4      3.43   \n3    Suisse   CH       1.9  5.722062e-07  5.100099e-07       0.1      0.90   \n4    Chypre   CY      -5.4  1.790091e-05  2.021070e-05       0.4      6.00   \n\n       tsdsc260  tet00002  tsc00001  tsc00004  \n0  4.851003e-07     -5683      2.84  0.004571  \n1  3.494110e-07     14145      2.24  0.003947  \n2  9.060269e-07     -3610      0.64  0.001551  \n3  5.473277e-07     18780      2.87  0.003127  \n4  5.658996e-06     -3229      0.46  0.001034  "
     },
     "execution_count": 5,
     "metadata": {},
     "output_type": "execute_result"
    }
   ],
   "source": [
    "eurostat = eurostat.apply(divide_by_population, axis=1) # divide some rows by the population row value\n",
    "eurostat = eurostat.drop(['tps00001'], axis=1) # delete the population column\n",
    "eurostat.head()"
   ]
  },
  {
   "cell_type": "code",
   "execution_count": 6,
   "metadata": {},
   "outputs": [
    {
     "data": {
      "text/html": "<div>\n<style scoped>\n    .dataframe tbody tr th:only-of-type {\n        vertical-align: middle;\n    }\n\n    .dataframe tbody tr th {\n        vertical-align: top;\n    }\n\n    .dataframe thead th {\n        text-align: right;\n    }\n</style>\n<table border=\"1\" class=\"dataframe\">\n  <thead>\n    <tr style=\"text-align: right;\">\n      <th></th>\n      <th>tec00115</th>\n      <th>teilmF</th>\n      <th>teilmM</th>\n      <th>tec00118</th>\n      <th>teimf050</th>\n      <th>tsdsc260</th>\n      <th>tet00002</th>\n      <th>tsc00001</th>\n      <th>tsc00004</th>\n    </tr>\n  </thead>\n  <tbody>\n    <tr>\n      <th>0</th>\n      <td>-0.054714</td>\n      <td>-0.487096</td>\n      <td>-0.488163</td>\n      <td>0.882521</td>\n      <td>-0.663659</td>\n      <td>-0.381770</td>\n      <td>0.016166</td>\n      <td>1.108564</td>\n      <td>0.722569</td>\n    </tr>\n    <tr>\n      <th>1</th>\n      <td>-0.104869</td>\n      <td>-0.463321</td>\n      <td>-0.442513</td>\n      <td>-0.097691</td>\n      <td>-0.515720</td>\n      <td>-0.442140</td>\n      <td>0.205697</td>\n      <td>0.462228</td>\n      <td>0.322147</td>\n    </tr>\n    <tr>\n      <th>2</th>\n      <td>0.246214</td>\n      <td>-0.247752</td>\n      <td>-0.203546</td>\n      <td>-0.968991</td>\n      <td>0.053279</td>\n      <td>-0.194493</td>\n      <td>0.035982</td>\n      <td>-1.261334</td>\n      <td>-1.213797</td>\n    </tr>\n    <tr>\n      <th>3</th>\n      <td>0.747760</td>\n      <td>-0.500326</td>\n      <td>-0.503422</td>\n      <td>-1.295728</td>\n      <td>-1.386287</td>\n      <td>-0.354084</td>\n      <td>0.250002</td>\n      <td>1.140880</td>\n      <td>-0.202988</td>\n    </tr>\n    <tr>\n      <th>4</th>\n      <td>-2.913529</td>\n      <td>3.677346</td>\n      <td>3.806666</td>\n      <td>-0.968991</td>\n      <td>1.515605</td>\n      <td>1.920175</td>\n      <td>0.039624</td>\n      <td>-1.455235</td>\n      <td>-1.545133</td>\n    </tr>\n  </tbody>\n</table>\n</div>",
      "text/plain": "   tec00115    teilmF    teilmM  tec00118  teimf050  tsdsc260  tet00002  \\\n0 -0.054714 -0.487096 -0.488163  0.882521 -0.663659 -0.381770  0.016166   \n1 -0.104869 -0.463321 -0.442513 -0.097691 -0.515720 -0.442140  0.205697   \n2  0.246214 -0.247752 -0.203546 -0.968991  0.053279 -0.194493  0.035982   \n3  0.747760 -0.500326 -0.503422 -1.295728 -1.386287 -0.354084  0.250002   \n4 -2.913529  3.677346  3.806666 -0.968991  1.515605  1.920175  0.039624   \n\n   tsc00001  tsc00004  \n0  1.108564  0.722569  \n1  0.462228  0.322147  \n2 -1.261334 -1.213797  \n3  1.140880 -0.202988  \n4 -1.455235 -1.545133  "
     },
     "execution_count": 6,
     "metadata": {},
     "output_type": "execute_result"
    }
   ],
   "source": [
    "# apply a normalization filter : StandardScaler\n",
    "from sklearn.preprocessing import StandardScaler\n",
    "scaler = StandardScaler()\n",
    "\n",
    "numerical_columns = ['tec00115', 'teilmF', 'teilmM', 'tec00118', 'teimf050', 'tsdsc260', 'tet00002', 'tsc00001', 'tsc00004']\n",
    "X_norm = pd.DataFrame(scaler.fit_transform(eurostat[numerical_columns]), columns=numerical_columns)\n",
    "y = eurostat[['Nom', 'Code']]\n",
    "X_norm.head()"
   ]
  },
  {
   "cell_type": "code",
   "execution_count": 7,
   "metadata": {},
   "outputs": [],
   "source": [
    "# ACP\n",
    "from sklearn.decomposition import PCA\n",
    "acp = PCA(svd_solver='full')\n",
    "coord = acp.fit_transform(X_norm)\n",
    "\n",
    "n = X_norm.shape[0] # number of rows\n",
    "p = X_norm.shape[1] # number of columns"
   ]
  },
  {
   "cell_type": "code",
   "execution_count": 8,
   "metadata": {},
   "outputs": [],
   "source": [
    "# plot instances on the first plan (first 2 factors)\n",
    "fig, axes = plt.subplots(figsize=(12,12))\n",
    "axes.set_xlim(-4,9)\n",
    "axes.set_ylim(-5,6)\n",
    "for i in range(n):\n",
    "    plt.annotate(y.values[i][1],(coord[i,0],coord[i,1]))\n",
    "plt.plot([-4,9],[0,0],color='silver',linestyle='-',linewidth=1)\n",
    "plt.plot([0,0],[-5,6],color='silver',linestyle='-',linewidth=1)\n",
    "plt.savefig('fig/acp_instances_1st_plan_CP1_CP2')\n",
    "plt.close(fig)\n",
    "\n",
    "# plot instances on the first plan (first 2 factors)\n",
    "fig, axes = plt.subplots(figsize=(12,12))\n",
    "axes.set_xlim(-4,9)\n",
    "axes.set_ylim(-5,6)\n",
    "for i in range(n):\n",
    "    plt.annotate(y.values[i][1],(coord[i,2],coord[i,3]))\n",
    "plt.plot([-4,9],[0,0],color='silver',linestyle='-',linewidth=1)\n",
    "plt.plot([0,0],[-5,6],color='silver',linestyle='-',linewidth=1)\n",
    "plt.savefig('fig/acp_instances_1st_plan_CP3_CP4')\n",
    "plt.close(fig)"
   ]
  },
  {
   "cell_type": "code",
   "execution_count": 9,
   "metadata": {},
   "outputs": [
    {
     "name": "stdout",
     "output_type": "stream",
     "text": "[[-1.76468583e-01 -4.19442008e-01  7.48402361e-01  1.23878534e-01\n   4.05404583e-01 -2.11006273e-01  7.99116972e-02 -4.70341316e-02\n   8.02459045e-04]\n [ 9.03254621e-01 -3.82632520e-01 -1.54792486e-01  2.41756322e-02\n  -7.58321262e-02  2.65116789e-02  3.93169440e-02 -6.49501951e-02\n   3.09925507e-02]\n [ 9.03057280e-01 -3.83350814e-01 -1.38685254e-01  2.04170639e-02\n  -5.86182393e-02  5.81415552e-02  3.94970744e-02 -9.34203331e-02\n  -2.78447384e-02]\n [-1.97912234e-01 -2.84568677e-01  4.96657408e-01 -3.83782206e-01\n  -6.95549701e-01 -4.37662683e-02  1.35205319e-02 -2.50626598e-03\n  -3.05512709e-04]\n [ 4.75833503e-01  7.29586928e-01 -1.08882470e-01  1.95597245e-01\n  -2.06051472e-01 -3.62556014e-01  1.31354188e-01  3.43943180e-03\n  -1.37571483e-03]\n [ 7.99611212e-01 -5.67421225e-01  2.35248551e-02  9.95341653e-03\n   5.09790018e-02 -9.35022841e-02 -1.26633359e-02  1.62754627e-01\n  -3.40722533e-03]\n [ 7.92828040e-02  7.21485571e-02 -2.36924986e-01 -9.13510877e-01\n   2.81099807e-01 -1.34608612e-01  2.47710488e-02 -1.10935205e-02\n  -7.16079600e-06]\n [-7.28317306e-01 -4.75548075e-01 -4.00517555e-01  5.47908470e-02\n  -4.81507465e-02  4.94431595e-02  2.73356642e-01  2.24588944e-02\n  -4.52942247e-04]\n [-5.54795688e-01 -5.69486785e-01 -4.60532125e-01  1.49728658e-01\n  -9.95720287e-02 -3.09329045e-01 -1.62845404e-01 -3.54979578e-02\n  -5.08515261e-04]]\n"
    }
   ],
   "source": [
    "# plot eigen values\n",
    "eigval = float(n-1)/n*acp.explained_variance_\n",
    "fig = plt.figure()\n",
    "plt.plot(np.arange(1,p+1),eigval)\n",
    "plt.title(\"Scree plot\")\n",
    "plt.ylabel(\"Eigen values\")\n",
    "plt.xlabel(\"Factor number\")\n",
    "plt.savefig('fig/acp_eigen_values')\n",
    "plt.close(fig)\n",
    "\n",
    "# print correlations between factors and original variables\n",
    "sqrt_eigval = np.sqrt(eigval)\n",
    "corvar = np.zeros((p,p))\n",
    "for k in range(p):\n",
    "    corvar[:,k] = acp.components_[k,:] * sqrt_eigval[k]\n",
    "print(corvar)\n",
    "# lines: variables\n",
    "# columns: factors"
   ]
  },
  {
   "cell_type": "code",
   "execution_count": 10,
   "metadata": {},
   "outputs": [],
   "source": [
    "# draw correlation circles\n",
    "from tp2_1_1 import correlation_circle\n",
    "\n",
    "# CP1 & CP2\n",
    "correlation_circle(df=X_norm, nb_var=p, x_axis=0, y_axis=1, corvar=corvar, plt=plt)\n",
    "# CP3 & CP4\n",
    "correlation_circle(df=X_norm, nb_var=p, x_axis=2, y_axis=3, corvar=corvar, plt=plt)"
   ]
  },
  {
   "cell_type": "code",
   "execution_count": 11,
   "metadata": {},
   "outputs": [],
   "source": [
    "# Compute opptimal K value\n",
    "from sklearn.cluster import KMeans\n",
    "\n",
    "# Compute R-square, i.e. V_inter/V\n",
    "from R_square_clustering import r_square\n",
    "from purity import purity_score\n",
    "\n",
    "# Plot elbow graphs for KMeans using R square and purity scores\n",
    "lst_k=range(2,9)\n",
    "lst_rsq = []\n",
    "for k in lst_k:\n",
    "    est=KMeans(n_clusters=k)\n",
    "    est.fit(X_norm)\n",
    "    lst_rsq.append(r_square(X_norm.to_numpy(), est.cluster_centers_,est.labels_,k))\n",
    "    \n",
    "fig = plt.figure()\n",
    "plt.plot(lst_k, lst_rsq, 'bx-')\n",
    "plt.xlabel('k')\n",
    "plt.ylabel('RSQ')\n",
    "plt.title('The Elbow Method showing the optimal k')\n",
    "plt.savefig('fig/k-means_elbow_method')\n",
    "plt.close()"
   ]
  },
  {
   "cell_type": "code",
   "execution_count": 12,
   "metadata": {},
   "outputs": [
    {
     "name": "stdout",
     "output_type": "stream",
     "text": "Num cluster for FR: 1\n\tlist of countries: Autriche, Belgique, Suisse, République tchèque, Allemagne, Danemark, Zone euro, Estonie, Union européenne, Finlande, France, Japon, Pays-Bas, Suède, Slovénie, Royaume-Uni, États-Unis\n\tcentroid: [ 0.03379404 -0.37950641 -0.38241934  0.23289022 -0.61412286 -0.33604868\n -0.06402644  0.84115809  0.58217842]\nNum cluster for JP: 1\n\tlist of countries: Autriche, Belgique, Suisse, République tchèque, Allemagne, Danemark, Zone euro, Estonie, Union européenne, Finlande, France, Japon, Pays-Bas, Suède, Slovénie, Royaume-Uni, États-Unis\n\tcentroid: [ 0.03379404 -0.37950641 -0.38241934  0.23289022 -0.61412286 -0.33604868\n -0.06402644  0.84115809  0.58217842]\n"
    }
   ],
   "source": [
    "# Clusters centroids\n",
    "from mpl_toolkits.mplot3d import Axes3D\n",
    "n_clusters = 3\n",
    "est = KMeans(n_clusters=n_clusters)\n",
    "title = '3 clusters'\n",
    "est.fit(X_norm)\n",
    "labels = est.labels_\n",
    "\n",
    "# print centroids associated with several countries\n",
    "lst_countries=['FR', 'JP']\n",
    "# centroid of the entire dataset\n",
    "# est: KMeans model fit to the dataset\n",
    "# print (est.cluster_centers_)\n",
    "for name in lst_countries:\n",
    "    num_cluster = est.labels_[y.loc[y['Code']==name].index][0]\n",
    "    print('Num cluster for '+name+': '+str(num_cluster))\n",
    "    print('\\tlist of countries: '+', '.join(y['Nom'].iloc[np.where(est.labels_==num_cluster)].values))\n",
    "    print('\\tcentroid: '+str(est.cluster_centers_[num_cluster]))"
   ]
  },
  {
   "cell_type": "code",
   "execution_count": 20,
   "metadata": {},
   "outputs": [],
   "source": [
    "# Hierarchical clustering\n",
    "from scipy.cluster.hierarchy import dendrogram, linkage\n",
    "\n",
    "lst_labels = map(lambda pair: pair[0]+str(pair[1]), zip(y['Code'].values,y.index))\n",
    "linkage_matrix = linkage(X_norm, 'ward')\n",
    "fig = plt.figure()\n",
    "dendrogram(\n",
    "    linkage_matrix,\n",
    "    color_threshold=7,\n",
    "    labels=list(lst_labels),\n",
    ")\n",
    "plt.title('Hierarchical Clustering Dendrogram (Ward)')\n",
    "plt.xlabel('sample index')\n",
    "plt.ylabel('distance')\n",
    "plt.tight_layout()\n",
    "plt.savefig('fig/hierarchical-clustering')\n",
    "plt.close()"
   ]
  }
 ]
}