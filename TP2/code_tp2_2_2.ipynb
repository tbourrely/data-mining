{
 "nbformat": 4,
 "nbformat_minor": 2,
 "metadata": {
  "language_info": {
   "name": "python",
   "codemirror_mode": {
    "name": "ipython",
    "version": 3
   },
   "version": "3.7.6-final"
  },
  "orig_nbformat": 2,
  "file_extension": ".py",
  "mimetype": "text/x-python",
  "name": "python",
  "npconvert_exporter": "python",
  "pygments_lexer": "ipython3",
  "version": 3,
  "kernelspec": {
   "name": "python37664bitvenvvenv5101a89ed7924538a19bd42542a6ccfa",
   "display_name": "Python 3.7.6 64-bit ('venv': venv)"
  }
 },
 "cells": [
  {
   "cell_type": "code",
   "execution_count": 32,
   "metadata": {},
   "outputs": [],
   "source": [
    "import pandas as pd\n",
    "import numpy as np"
   ]
  },
  {
   "cell_type": "code",
   "execution_count": 33,
   "metadata": {},
   "outputs": [],
   "source": [
    "# Load data\n",
    "valuation_df = pd.read_csv('data/real-estate-valuation/Real_estate_valuation_data_set.csv')\n",
    "\n",
    "y_name = 'Y house price of unit area'\n",
    "y = valuation_df[y_name]\n",
    "\n",
    "valuation_df.drop([y_name], axis=1, inplace=True) # remove y from dataframe\n",
    "valuation_df.drop(valuation_df.columns[0], axis=1, inplace=True) # remove first columns as it is the line number"
   ]
  },
  {
   "cell_type": "code",
   "execution_count": 34,
   "metadata": {},
   "outputs": [
    {
     "data": {
      "text/plain": "Ridge(alpha=1.0, copy_X=True, fit_intercept=True, max_iter=None,\n      normalize=False, random_state=None, solver='auto', tol=0.001)"
     },
     "execution_count": 34,
     "metadata": {},
     "output_type": "execute_result"
    }
   ],
   "source": [
    "# Fit classifier\n",
    "from sklearn.linear_model import Ridge\n",
    "clf = Ridge()\n",
    "clf.fit(valuation_df, y)"
   ]
  },
  {
   "cell_type": "code",
   "execution_count": 35,
   "metadata": {},
   "outputs": [
    {
     "name": "stdout",
     "output_type": "stream",
     "text": "X1 transaction date : 5.484508770570086\nX2 house age : -0.25277252725928306\nX3 distance to the nearest MRT station : -0.005484557908357886\nX4 number of convenience stores : 1.2383696351162086\nX5 latitude : 8.784606955871505\nX6 longitude : -1.3603627059482417\n"
    }
   ],
   "source": [
    "# Print coeffs\n",
    "for i in range(len(valuation_df.columns)):\n",
    "    print('{} : {}'.format(valuation_df.columns[i], clf.coef_[i]))"
   ]
  },
  {
   "cell_type": "code",
   "execution_count": 42,
   "metadata": {},
   "outputs": [
    {
     "name": "stdout",
     "output_type": "stream",
     "text": "Predicted value : 54.273411202775605\n"
    }
   ],
   "source": [
    "to_be_predicted = (\n",
    "    2013.5,\n",
    "    6.5,\n",
    "    90.45606,\n",
    "    9, \n",
    "    24.97433, \n",
    "    121.5431\n",
    ")\n",
    "\n",
    "np_array = np.array(to_be_predicted)\n",
    "np_array = np.reshape(np_array, (-1, 6))\n",
    "\n",
    "predictions = clf.predict(np_array)\n",
    "\n",
    "print('Predicted value : {}'.format(predictions[0]))"
   ]
  },
  {
   "cell_type": "code",
   "execution_count": 44,
   "metadata": {},
   "outputs": [
    {
     "name": "stdout",
     "output_type": "stream",
     "text": "R_square score : 0.5546403687583227\n"
    }
   ],
   "source": [
    "print('R_square score : {}'.format(clf.score(valuation_df, y)))"
   ]
  }
 ]
}