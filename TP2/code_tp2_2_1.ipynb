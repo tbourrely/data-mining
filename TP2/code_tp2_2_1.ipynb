{
 "nbformat": 4,
 "nbformat_minor": 2,
 "metadata": {
  "language_info": {
   "name": "python",
   "codemirror_mode": {
    "name": "ipython",
    "version": 3
   },
   "version": "3.7.6-final"
  },
  "orig_nbformat": 2,
  "file_extension": ".py",
  "mimetype": "text/x-python",
  "name": "python",
  "npconvert_exporter": "python",
  "pygments_lexer": "ipython3",
  "version": 3,
  "kernelspec": {
   "name": "python37664bitvenvvenv5101a89ed7924538a19bd42542a6ccfa",
   "display_name": "Python 3.7.6 64-bit ('venv': venv)"
  }
 },
 "cells": [
  {
   "cell_type": "code",
   "execution_count": 1,
   "metadata": {},
   "outputs": [],
   "source": [
    "import pandas as pd\n",
    "import matplotlib\n",
    "import matplotlib.pyplot as plt\n",
    "import numpy as np"
   ]
  },
  {
   "cell_type": "code",
   "execution_count": 2,
   "metadata": {},
   "outputs": [],
   "source": [
    "from scipy.io import arff\n",
    "data, meta = arff.loadarff('./data/labor.arff')"
   ]
  },
  {
   "cell_type": "code",
   "execution_count": 3,
   "metadata": {},
   "outputs": [
    {
     "name": "stdout",
     "output_type": "stream",
     "text": "20 - 37 (bad - good)\n"
    }
   ],
   "source": [
    "good = 0\n",
    "bad = 0\n",
    "\n",
    "for row in data:\n",
    "    status = row[-1].decode('utf-8')\n",
    "    \n",
    "    if 'good' == status:\n",
    "        good += 1\n",
    "    else:\n",
    "        bad += 1\n",
    "\n",
    "print('{} - {} (bad - good)'.format(bad, good))"
   ]
  },
  {
   "cell_type": "code",
   "execution_count": 4,
   "metadata": {},
   "outputs": [],
   "source": [
    "labor_dataframe = pd.DataFrame(data)\n",
    "nominal_cols = [\n",
    "    'cost-of-living-adjustment', \n",
    "    'pension', \n",
    "    'education-allowance', \n",
    "    'vacation', \n",
    "    'longterm-disability-assistance', \n",
    "    'contribution-to-dental-plan', \n",
    "    'bereavement-assistance', \n",
    "    'contribution-to-health-plan',\n",
    "    'class'\n",
    "]\n",
    "numeric_labor_dataframe = labor_dataframe.drop(nominal_cols, axis=1) # remove nominal values"
   ]
  },
  {
   "cell_type": "code",
   "execution_count": 5,
   "metadata": {},
   "outputs": [],
   "source": [
    "# Standardization\n",
    "from sklearn.preprocessing import StandardScaler\n",
    "scaler = StandardScaler()\n",
    "\n",
    "scaler_numeric_df = pd.DataFrame(scaler.fit_transform(numeric_labor_dataframe.values), index=numeric_labor_dataframe.index, columns=numeric_labor_dataframe.columns)"
   ]
  },
  {
   "cell_type": "code",
   "execution_count": 6,
   "metadata": {},
   "outputs": [],
   "source": [
    "# Replace missing values\n",
    "from sklearn.impute import SimpleImputer\n",
    "imp_mean = SimpleImputer()\n",
    "\n",
    "processed_numeric_df = pd.DataFrame(imp_mean.fit_transform(scaler_numeric_df.values), index=scaler_numeric_df.index, columns=scaler_numeric_df.columns)"
   ]
  },
  {
   "cell_type": "code",
   "execution_count": 25,
   "metadata": {},
   "outputs": [
    {
     "name": "stdout",
     "output_type": "stream",
     "text": "--------------------\nAccuracy of Dummy classifier on cross-validation: 0.65 (+/- 0.03)\n---\n           pred:bad  pred:good\ntrue:bad          0         20\ntrue:good         0         37\n---\n--------------------\nAccuracy of GaussianNB classifier on cross-validation: 0.86 (+/- 0.15)\n---\n           pred:bad  pred:good\ntrue:bad         14          6\ntrue:good         2         35\n---\n--------------------\nAccuracy of Decision tree classifier on cross-validation: 0.77 (+/- 0.22)\n---\n           pred:bad  pred:good\ntrue:bad         15          5\ntrue:good         8         29\n---\n--------------------\nAccuracy of Logistic Regression classifier on cross-validation: 0.89 (+/- 0.14)\n---\n           pred:bad  pred:good\ntrue:bad         16          4\ntrue:good         2         35\n---\n--------------------\nAccuracy of SVC classifier on cross-validation: 0.89 (+/- 0.18)\n---\n           pred:bad  pred:good\ntrue:bad         16          4\ntrue:good         2         35\n---\n"
    }
   ],
   "source": [
    "# Classification\n",
    "from sklearn.dummy import DummyClassifier\n",
    "from sklearn.naive_bayes import GaussianNB\n",
    "from sklearn.tree import DecisionTreeClassifier\n",
    "from sklearn.linear_model import LogisticRegression\n",
    "from sklearn.svm import SVC\n",
    "from sklearn.metrics import confusion_matrix\n",
    "\n",
    "dummycl = DummyClassifier(strategy=\"most_frequent\")\n",
    "gmb = GaussianNB()\n",
    "dectree = DecisionTreeClassifier()\n",
    "logreg = LogisticRegression()\n",
    "svc = SVC()\n",
    "\n",
    "lst_classif = [dummycl, gmb, dectree, logreg, svc]\n",
    "lst_classif_names = ['Dummy', 'GaussianNB', 'Decision tree', 'Logistic Regression', 'SVC']\n",
    "\n",
    "y = [x.decode('utf-8') for x in labor_dataframe['class']] # byte => string conversion\n",
    "\n",
    "\n",
    "# cross-validation\n",
    "from sklearn.model_selection import cross_val_score\n",
    "from sklearn.model_selection import cross_val_predict\n",
    "\n",
    "for clf, name_clf in zip(lst_classif, lst_classif_names):\n",
    "    scores = cross_val_score(clf, processed_numeric_df, y, cv=5)\n",
    "    y_pred = cross_val_predict(clf, processed_numeric_df, y, cv=5)\n",
    "    \n",
    "    # https://stackoverflow.com/a/50326049\n",
    "    unique_label = ['bad', 'good']\n",
    "    cmtx = pd.DataFrame(\n",
    "        confusion_matrix(y, y_pred, labels=unique_label), \n",
    "        index=['true:{:}'.format(x) for x in unique_label], \n",
    "        columns=['pred:{:}'.format(x) for x in unique_label]\n",
    "    )\n",
    "    print('--------------------')\n",
    "    print(\"Accuracy of \"+name_clf+\" classifier on cross-validation: %0.2f (+/- %0.2f)\" % (scores.mean(), scores.std() * 2))\n",
    "    print('---')\n",
    "    print(cmtx)\n",
    "    print('---')"
   ]
  }
 ]
}