{
 "nbformat": 4,
 "nbformat_minor": 2,
 "metadata": {
  "language_info": {
   "name": "python",
   "codemirror_mode": {
    "name": "ipython",
    "version": 3
   },
   "version": "3.7.6-final"
  },
  "orig_nbformat": 2,
  "file_extension": ".py",
  "mimetype": "text/x-python",
  "name": "python",
  "npconvert_exporter": "python",
  "pygments_lexer": "ipython3",
  "version": 3,
  "kernelspec": {
   "name": "python37664bitvenvvenv5101a89ed7924538a19bd42542a6ccfa",
   "display_name": "Python 3.7.6 64-bit ('venv': venv)"
  }
 },
 "cells": [
  {
   "cell_type": "code",
   "execution_count": 1,
   "metadata": {},
   "outputs": [],
   "source": [
    "import pandas as pd\n",
    "import matplotlib\n",
    "import matplotlib.pyplot as plt\n",
    "import numpy as np"
   ]
  },
  {
   "cell_type": "code",
   "execution_count": 2,
   "metadata": {},
   "outputs": [],
   "source": [
    "# functions\n",
    "\n",
    "from sklearn.model_selection import cross_val_score\n",
    "from sklearn.model_selection import cross_val_predict\n",
    "\n",
    "def cross_validation(X, y, clf_list = (), cv = 5):\n",
    "    for clf, name_clf in clf_list:\n",
    "        scores = cross_val_score(clf, X, y, cv=cv)\n",
    "        y_pred = cross_val_predict(clf, X, y, cv=cv)\n",
    "        \n",
    "        # https://stackoverflow.com/a/50326049\n",
    "        unique_label = ['bad', 'good']\n",
    "        cmtx = pd.DataFrame(\n",
    "            confusion_matrix(y, y_pred, labels=unique_label), \n",
    "            index=['true:{:}'.format(x) for x in unique_label], \n",
    "            columns=['pred:{:}'.format(x) for x in unique_label]\n",
    "        )\n",
    "        print('--------------------')\n",
    "        print(\"Accuracy of \"+name_clf+\" classifier on cross-validation: %0.2f (+/- %0.2f)\" % (scores.mean(), scores.std() * 2))\n",
    "        print('---')\n",
    "        print(cmtx)\n",
    "        print('---')"
   ]
  },
  {
   "cell_type": "code",
   "execution_count": 3,
   "metadata": {},
   "outputs": [],
   "source": [
    "from scipy.io import arff\n",
    "data, meta = arff.loadarff('./data/labor.arff')"
   ]
  },
  {
   "cell_type": "code",
   "execution_count": 4,
   "metadata": {},
   "outputs": [
    {
     "name": "stdout",
     "output_type": "stream",
     "text": "20 - 37 (bad - good)\n"
    }
   ],
   "source": [
    "good = 0\n",
    "bad = 0\n",
    "\n",
    "for row in data:\n",
    "    status = row[-1].decode('utf-8')\n",
    "    \n",
    "    if 'good' == status:\n",
    "        good += 1\n",
    "    else:\n",
    "        bad += 1\n",
    "\n",
    "print('{} - {} (bad - good)'.format(bad, good))"
   ]
  },
  {
   "cell_type": "code",
   "execution_count": 5,
   "metadata": {},
   "outputs": [],
   "source": [
    "labor_dataframe = pd.DataFrame(data)\n",
    "nominal_cols = [\n",
    "    'cost-of-living-adjustment', \n",
    "    'pension', \n",
    "    'education-allowance', \n",
    "    'vacation', \n",
    "    'longterm-disability-assistance', \n",
    "    'contribution-to-dental-plan', \n",
    "    'bereavement-assistance', \n",
    "    'contribution-to-health-plan',\n",
    "    'class'\n",
    "]\n",
    "numeric_labor_dataframe = labor_dataframe.drop(nominal_cols, axis=1) # remove nominal values"
   ]
  },
  {
   "cell_type": "code",
   "execution_count": 6,
   "metadata": {},
   "outputs": [],
   "source": [
    "# Standardization\n",
    "from sklearn.preprocessing import StandardScaler\n",
    "scaler = StandardScaler()\n",
    "\n",
    "scaler_numeric_df = pd.DataFrame(scaler.fit_transform(numeric_labor_dataframe.values), index=numeric_labor_dataframe.index, columns=numeric_labor_dataframe.columns)"
   ]
  },
  {
   "cell_type": "code",
   "execution_count": 7,
   "metadata": {},
   "outputs": [],
   "source": [
    "# Replace missing values\n",
    "from sklearn.impute import SimpleImputer\n",
    "imp_mean = SimpleImputer()\n",
    "\n",
    "processed_numeric_df = pd.DataFrame(imp_mean.fit_transform(scaler_numeric_df.values), index=scaler_numeric_df.index, columns=scaler_numeric_df.columns)"
   ]
  },
  {
   "cell_type": "code",
   "execution_count": 8,
   "metadata": {},
   "outputs": [
    {
     "name": "stdout",
     "output_type": "stream",
     "text": "--------------------\nAccuracy of Dummy classifier on cross-validation: 0.65 (+/- 0.03)\n---\n           pred:bad  pred:good\ntrue:bad          0         20\ntrue:good         0         37\n---\n--------------------\nAccuracy of GaussianNB classifier on cross-validation: 0.86 (+/- 0.15)\n---\n           pred:bad  pred:good\ntrue:bad         14          6\ntrue:good         2         35\n---\n--------------------\nAccuracy of Decision tree classifier on cross-validation: 0.77 (+/- 0.22)\n---\n           pred:bad  pred:good\ntrue:bad         15          5\ntrue:good         8         29\n---\n--------------------\nAccuracy of Logistic Regresion classifier on cross-validation: 0.89 (+/- 0.14)\n---\n           pred:bad  pred:good\ntrue:bad         16          4\ntrue:good         2         35\n---\n--------------------\nAccuracy of SVC classifier on cross-validation: 0.89 (+/- 0.18)\n---\n           pred:bad  pred:good\ntrue:bad         16          4\ntrue:good         2         35\n---\n"
    }
   ],
   "source": [
    "# Classification\n",
    "from sklearn.dummy import DummyClassifier\n",
    "from sklearn.naive_bayes import GaussianNB\n",
    "from sklearn.tree import DecisionTreeClassifier\n",
    "from sklearn.linear_model import LogisticRegression\n",
    "from sklearn.svm import SVC\n",
    "from sklearn.metrics import confusion_matrix\n",
    "\n",
    "dummycl = DummyClassifier(strategy=\"most_frequent\")\n",
    "gmb = GaussianNB()\n",
    "dectree = DecisionTreeClassifier()\n",
    "logreg = LogisticRegression()\n",
    "svc = SVC()\n",
    "\n",
    "y = [x.decode('utf-8') for x in labor_dataframe['class']] # byte => string conversion\n",
    "\n",
    "clf = (\n",
    "    (dummycl, 'Dummy'),\n",
    "    (gmb, 'GaussianNB'),\n",
    "    (dectree, 'Decision tree'),\n",
    "    (logreg, 'Logistic Regresion'),\n",
    "    (svc, 'SVC')\n",
    ")\n",
    "\n",
    "cross_validation(processed_numeric_df, y, clf)"
   ]
  },
  {
   "cell_type": "code",
   "execution_count": 9,
   "metadata": {},
   "outputs": [],
   "source": [
    "# Prepare categorical dataframe\n",
    "categorical_labor_df = labor_dataframe[nominal_cols]\n",
    "categorical_labor_df.drop(['class'], axis=1, inplace=True) # remove class as it is our y\n",
    "categorical_labor_df = categorical_labor_df.applymap(lambda x: x.decode('utf-8')) # byte => string\n",
    "\n",
    "# Replace missing values \n",
    "imp_most_frequent = SimpleImputer(strategy='most_frequent', missing_values='?')\n",
    "processed_categorical_labor_df = pd.DataFrame(imp_most_frequent.fit_transform(categorical_labor_df.values), index=categorical_labor_df.index,columns=categorical_labor_df.columns)\n",
    "\n",
    "# Discretization\n",
    "categorical_labor_onehot_df = pd.get_dummies(processed_categorical_labor_df)"
   ]
  },
  {
   "cell_type": "code",
   "execution_count": 11,
   "metadata": {},
   "outputs": [
    {
     "name": "stdout",
     "output_type": "stream",
     "text": "--------------------\nAccuracy of Dummy classifier on cross-validation: 0.65 (+/- 0.03)\n---\n           pred:bad  pred:good\ntrue:bad          0         20\ntrue:good         0         37\n---\n--------------------\nAccuracy of GaussianNB classifier on cross-validation: 0.90 (+/- 0.13)\n---\n           pred:bad  pred:good\ntrue:bad         16          4\ntrue:good         2         35\n---\n--------------------\nAccuracy of Decision tree classifier on cross-validation: 0.84 (+/- 0.25)\n---\n           pred:bad  pred:good\ntrue:bad         15          5\ntrue:good         5         32\n---\n--------------------\nAccuracy of Logistic Regresion classifier on cross-validation: 0.91 (+/- 0.20)\n---\n           pred:bad  pred:good\ntrue:bad         15          5\ntrue:good         0         37\n---\n--------------------\nAccuracy of SVC classifier on cross-validation: 0.91 (+/- 0.20)\n---\n           pred:bad  pred:good\ntrue:bad         15          5\ntrue:good         0         37\n---\n"
    }
   ],
   "source": [
    "# Classification with categorical data\n",
    "cross_validation(categorical_labor_onehot_df, y, clf)"
   ]
  },
  {
   "cell_type": "code",
   "execution_count": 10,
   "metadata": {},
   "outputs": [],
   "source": [
    "# Use all available attributes to train classifiers\n",
    "numerical_cols = [\n",
    "    'duration',\n",
    "    'wage-increase-first-year',\n",
    "    'wage-increase-second-year',\n",
    "    'wage-increase-third-year',\n",
    "    'working-hours',\n",
    "    'shift-differential',\n",
    "    'statutory-holidays',\n",
    "    'standby-pay'\n",
    "]\n",
    "\n",
    "full_labor_df = labor_dataframe.copy()\n",
    "\n",
    "# Preprocess nominal cols\n",
    "full_labor_df[nominal_cols] = full_labor_df[nominal_cols].applymap(lambda x: x.decode('utf-8')) # byte => string\n",
    "full_labor_df[nominal_cols] = imp_most_frequent.fit_transform(full_labor_df[nominal_cols])\n",
    "\n",
    "# Preprocess numerical cols\n",
    "full_labor_df[numerical_cols] = scaler.fit_transform(full_labor_df[numerical_cols])\n",
    "full_labor_df[numerical_cols] = imp_mean.fit_transform(full_labor_df[numerical_cols])\n",
    "\n",
    "# Remove y column\n",
    "full_labor_df.drop(['class'], axis=1, inplace=True)\n",
    "\n",
    "# One-hot nominal values\n",
    "full_labor_onehot_df = pd.get_dummies(full_labor_df, columns=nominal_cols.remove('class')) # class column has been removed from dataframe previously"
   ]
  },
  {
   "cell_type": "code",
   "execution_count": 12,
   "metadata": {},
   "outputs": [
    {
     "name": "stdout",
     "output_type": "stream",
     "text": "--------------------\nAccuracy of Dummy classifier on cross-validation: 0.65 (+/- 0.03)\n---\n           pred:bad  pred:good\ntrue:bad          0         20\ntrue:good         0         37\n---\n--------------------\nAccuracy of GaussianNB classifier on cross-validation: 0.90 (+/- 0.13)\n---\n           pred:bad  pred:good\ntrue:bad         16          4\ntrue:good         2         35\n---\n--------------------\nAccuracy of Decision tree classifier on cross-validation: 0.79 (+/- 0.28)\n---\n           pred:bad  pred:good\ntrue:bad         16          4\ntrue:good         5         32\n---\n--------------------\nAccuracy of Logistic Regresion classifier on cross-validation: 0.95 (+/- 0.15)\n---\n           pred:bad  pred:good\ntrue:bad         18          2\ntrue:good         1         36\n---\n--------------------\nAccuracy of SVC classifier on cross-validation: 0.96 (+/- 0.09)\n---\n           pred:bad  pred:good\ntrue:bad         18          2\ntrue:good         0         37\n---\n"
    }
   ],
   "source": [
    "cross_validation(full_labor_onehot_df, y, clf)"
   ]
  }
 ]
}